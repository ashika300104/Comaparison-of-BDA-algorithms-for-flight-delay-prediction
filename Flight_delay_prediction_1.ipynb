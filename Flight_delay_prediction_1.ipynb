{
  "cells": [
    {
      "cell_type": "markdown",
      "metadata": {
        "id": "wwvGRWtdFhjv"
      },
      "source": [
        " Flight delay prediction using pySpark"
      ]
    },
    {
      "cell_type": "code",
      "execution_count": null,
      "metadata": {
        "colab": {
          "base_uri": "https://localhost:8080/",
          "height": 281
        },
        "id": "YDlNTrVUOVGR",
        "outputId": "4280b548-fa71-4e49-e438-1ef52913267e"
      },
      "outputs": [
        {
          "output_type": "stream",
          "name": "stdout",
          "text": [
            "\r0% [Working]\r            \rHit:1 http://archive.ubuntu.com/ubuntu jammy InRelease\n",
            "\r0% [Connecting to security.ubuntu.com (91.189.91.83)] [Connecting to cloud.r-project.org] [Connectin\r                                                                                                    \rHit:2 http://archive.ubuntu.com/ubuntu jammy-updates InRelease\n",
            "\r0% [Waiting for headers] [Connecting to security.ubuntu.com (91.189.91.83)] [Connecting to cloud.r-p\r                                                                                                    \rHit:3 http://archive.ubuntu.com/ubuntu jammy-backports InRelease\n",
            "\r0% [Connecting to security.ubuntu.com (91.189.91.83)] [Connecting to cloud.r-project.org] [Connectin\r                                                                                                    \rHit:4 https://developer.download.nvidia.com/compute/cuda/repos/ubuntu2204/x86_64  InRelease\n",
            "\r0% [Waiting for headers] [Connecting to cloud.r-project.org] [Connecting to r2u.stat.illinois.edu (1\r                                                                                                    \rHit:5 http://security.ubuntu.com/ubuntu jammy-security InRelease\n",
            "\r0% [Connecting to cloud.r-project.org] [Connected to r2u.stat.illinois.edu (192.17.190.167)] [Waitin\r                                                                                                    \rHit:6 https://ppa.launchpadcontent.net/deadsnakes/ppa/ubuntu jammy InRelease\n",
            "\r0% [Connecting to cloud.r-project.org] [Connected to r2u.stat.illinois.edu (192.17.190.167)] [Waitin\r                                                                                                    \rHit:7 https://ppa.launchpadcontent.net/graphics-drivers/ppa/ubuntu jammy InRelease\n",
            "Hit:8 https://ppa.launchpadcontent.net/ubuntugis/ppa/ubuntu jammy InRelease\n",
            "Hit:9 https://cloud.r-project.org/bin/linux/ubuntu jammy-cran40/ InRelease\n",
            "Ign:10 https://r2u.stat.illinois.edu/ubuntu jammy InRelease\n",
            "Hit:11 https://r2u.stat.illinois.edu/ubuntu jammy Release\n",
            "Reading package lists... Done\n",
            "W: Skipping acquire of configured file 'main/source/Sources' as repository 'https://r2u.stat.illinois.edu/ubuntu jammy InRelease' does not seem to provide it (sources.list entry misspelt?)\n"
          ]
        },
        {
          "output_type": "execute_result",
          "data": {
            "text/plain": [
              "'/content/spark-3.2.1-bin-hadoop3.2'"
            ],
            "application/vnd.google.colaboratory.intrinsic+json": {
              "type": "string"
            }
          },
          "metadata": {},
          "execution_count": 2
        }
      ],
      "source": [
        "!apt-get update\n",
        "# Download Java Virtual Machine (JVM)\n",
        "!apt-get install openjdk-8-jdk-headless -qq > /dev/null\n",
        "# Download Spark\n",
        "!wget -q https://archive.apache.org/dist/spark/spark-3.2.1/spark-3.2.1-bin-hadoop3.2.tgz\n",
        "# Unzip the file\n",
        "!tar xf spark-3.2.1-bin-hadoop3.2.tgz\n",
        "!pip install -q findspark\n",
        "# set your spark folder to your system path environment.\n",
        "import os\n",
        "os.environ[\"JAVA_HOME\"] = \"/usr/lib/jvm/java-8-openjdk-amd64\"\n",
        "os.environ[\"SPARK_HOME\"] = '/content/spark-3.2.1-bin-hadoop3.2'\n",
        "import findspark\n",
        "findspark.init()\n",
        "findspark.find()"
      ]
    },
    {
      "cell_type": "code",
      "execution_count": null,
      "metadata": {
        "colab": {
          "base_uri": "https://localhost:8080/",
          "height": 219
        },
        "id": "icoASwaPQbXc",
        "outputId": "b0644a8c-210c-40cc-c59b-b6488c371ba1"
      },
      "outputs": [
        {
          "output_type": "execute_result",
          "data": {
            "text/plain": [
              "<pyspark.sql.session.SparkSession at 0x7a628c342f80>"
            ],
            "text/html": [
              "\n",
              "            <div>\n",
              "                <p><b>SparkSession - in-memory</b></p>\n",
              "                \n",
              "        <div>\n",
              "            <p><b>SparkContext</b></p>\n",
              "\n",
              "            <p><a href=\"http://6b8bf23a77ea:4040\">Spark UI</a></p>\n",
              "\n",
              "            <dl>\n",
              "              <dt>Version</dt>\n",
              "                <dd><code>v3.2.1</code></dd>\n",
              "              <dt>Master</dt>\n",
              "                <dd><code>local[*]</code></dd>\n",
              "              <dt>AppName</dt>\n",
              "                <dd><code>pyspark-shell</code></dd>\n",
              "            </dl>\n",
              "        </div>\n",
              "        \n",
              "            </div>\n",
              "        "
            ]
          },
          "metadata": {},
          "execution_count": 28
        }
      ],
      "source": [
        "import pyspark\n",
        "from pyspark.sql import SparkSession\n",
        "# Create a Spark Session\n",
        "spark = SparkSession.builder.master(\"local[*]\").getOrCreate()\n",
        "# Check Spark Session Information\n",
        "spark"
      ]
    },
    {
      "cell_type": "code",
      "execution_count": null,
      "metadata": {
        "colab": {
          "base_uri": "https://localhost:8080/",
          "height": 196
        },
        "id": "flyq_jNuQiCf",
        "outputId": "e9636a45-24de-4e37-a5fa-35cfaea81638"
      },
      "outputs": [
        {
          "output_type": "execute_result",
          "data": {
            "text/plain": [
              "<SparkContext master=local[*] appName=pyspark-shell>"
            ],
            "text/html": [
              "\n",
              "        <div>\n",
              "            <p><b>SparkContext</b></p>\n",
              "\n",
              "            <p><a href=\"http://6b8bf23a77ea:4040\">Spark UI</a></p>\n",
              "\n",
              "            <dl>\n",
              "              <dt>Version</dt>\n",
              "                <dd><code>v3.2.1</code></dd>\n",
              "              <dt>Master</dt>\n",
              "                <dd><code>local[*]</code></dd>\n",
              "              <dt>AppName</dt>\n",
              "                <dd><code>pyspark-shell</code></dd>\n",
              "            </dl>\n",
              "        </div>\n",
              "        "
            ]
          },
          "metadata": {},
          "execution_count": 29
        }
      ],
      "source": [
        "from pyspark import SparkConf\n",
        "from pyspark.context import SparkContext\n",
        "\n",
        "sc = SparkContext.getOrCreate(SparkConf().setMaster(\"local[*]\"))\n",
        "sc"
      ]
    },
    {
      "cell_type": "code",
      "execution_count": null,
      "metadata": {
        "id": "Zy0fXQeHQttT"
      },
      "outputs": [],
      "source": [
        "from pyspark.sql.types import StructType, StructField, StringType, DoubleType, IntegerType, NullType\n",
        "from pyspark.ml.feature import OneHotEncoder, StringIndexer, VectorAssembler\n",
        "from pyspark.ml.evaluation import BinaryClassificationEvaluator\n",
        "from pyspark.ml.feature import StandardScaler, Imputer\n",
        "from pyspark.sql import functions as f\n",
        "from pyspark.sql.window import Window\n",
        "from pyspark.sql import SQLContext\n",
        "import pyspark.ml.feature as ftr\n",
        "\n",
        "import pyspark.ml as ml\n",
        "from pyspark.ml.feature import StringIndexer\n",
        "from pyspark.ml.classification import DecisionTreeClassifier\n",
        "from pyspark.ml.classification import RandomForestClassifier\n",
        "from pyspark.ml.classification import GBTClassifier\n",
        "from pyspark.mllib.linalg.distributed import RowMatrix\n",
        "from pyspark.ml.tuning import ParamGridBuilder\n",
        "from pyspark.ml.tuning import CrossValidator\n",
        "from pyspark.ml.tuning import TrainValidationSplit\n",
        "from pyspark.ml import PipelineModel\n",
        "from pyspark.mllib.linalg import Vectors\n",
        "from pyspark.ml.feature import PCA\n",
        "\n",
        "import pandas as pd\n",
        "import numpy as np\n",
        "import seaborn as sns\n",
        "import matplotlib.pyplot as plt\n",
        "from pyspark.ml import Pipeline\n",
        "\n",
        "sqlContext = SQLContext(sc)"
      ]
    },
    {
      "cell_type": "code",
      "execution_count": null,
      "metadata": {
        "colab": {
          "base_uri": "https://localhost:8080/",
          "height": 343
        },
        "collapsed": true,
        "id": "xAZ4p6BrT4yC",
        "outputId": "5fe1fadd-b1ff-4bb8-de12-b9b26a86fe23"
      },
      "outputs": [
        {
          "data": {
            "text/html": [
              "\n",
              "     <input type=\"file\" id=\"files-f6f1459b-1e1e-4857-ac7b-3a3e3c1ed9c1\" name=\"files[]\" multiple disabled\n",
              "        style=\"border:none\" />\n",
              "     <output id=\"result-f6f1459b-1e1e-4857-ac7b-3a3e3c1ed9c1\">\n",
              "      Upload widget is only available when the cell has been executed in the\n",
              "      current browser session. Please rerun this cell to enable.\n",
              "      </output>\n",
              "      <script>// Copyright 2017 Google LLC\n",
              "//\n",
              "// Licensed under the Apache License, Version 2.0 (the \"License\");\n",
              "// you may not use this file except in compliance with the License.\n",
              "// You may obtain a copy of the License at\n",
              "//\n",
              "//      http://www.apache.org/licenses/LICENSE-2.0\n",
              "//\n",
              "// Unless required by applicable law or agreed to in writing, software\n",
              "// distributed under the License is distributed on an \"AS IS\" BASIS,\n",
              "// WITHOUT WARRANTIES OR CONDITIONS OF ANY KIND, either express or implied.\n",
              "// See the License for the specific language governing permissions and\n",
              "// limitations under the License.\n",
              "\n",
              "/**\n",
              " * @fileoverview Helpers for google.colab Python module.\n",
              " */\n",
              "(function(scope) {\n",
              "function span(text, styleAttributes = {}) {\n",
              "  const element = document.createElement('span');\n",
              "  element.textContent = text;\n",
              "  for (const key of Object.keys(styleAttributes)) {\n",
              "    element.style[key] = styleAttributes[key];\n",
              "  }\n",
              "  return element;\n",
              "}\n",
              "\n",
              "// Max number of bytes which will be uploaded at a time.\n",
              "const MAX_PAYLOAD_SIZE = 100 * 1024;\n",
              "\n",
              "function _uploadFiles(inputId, outputId) {\n",
              "  const steps = uploadFilesStep(inputId, outputId);\n",
              "  const outputElement = document.getElementById(outputId);\n",
              "  // Cache steps on the outputElement to make it available for the next call\n",
              "  // to uploadFilesContinue from Python.\n",
              "  outputElement.steps = steps;\n",
              "\n",
              "  return _uploadFilesContinue(outputId);\n",
              "}\n",
              "\n",
              "// This is roughly an async generator (not supported in the browser yet),\n",
              "// where there are multiple asynchronous steps and the Python side is going\n",
              "// to poll for completion of each step.\n",
              "// This uses a Promise to block the python side on completion of each step,\n",
              "// then passes the result of the previous step as the input to the next step.\n",
              "function _uploadFilesContinue(outputId) {\n",
              "  const outputElement = document.getElementById(outputId);\n",
              "  const steps = outputElement.steps;\n",
              "\n",
              "  const next = steps.next(outputElement.lastPromiseValue);\n",
              "  return Promise.resolve(next.value.promise).then((value) => {\n",
              "    // Cache the last promise value to make it available to the next\n",
              "    // step of the generator.\n",
              "    outputElement.lastPromiseValue = value;\n",
              "    return next.value.response;\n",
              "  });\n",
              "}\n",
              "\n",
              "/**\n",
              " * Generator function which is called between each async step of the upload\n",
              " * process.\n",
              " * @param {string} inputId Element ID of the input file picker element.\n",
              " * @param {string} outputId Element ID of the output display.\n",
              " * @return {!Iterable<!Object>} Iterable of next steps.\n",
              " */\n",
              "function* uploadFilesStep(inputId, outputId) {\n",
              "  const inputElement = document.getElementById(inputId);\n",
              "  inputElement.disabled = false;\n",
              "\n",
              "  const outputElement = document.getElementById(outputId);\n",
              "  outputElement.innerHTML = '';\n",
              "\n",
              "  const pickedPromise = new Promise((resolve) => {\n",
              "    inputElement.addEventListener('change', (e) => {\n",
              "      resolve(e.target.files);\n",
              "    });\n",
              "  });\n",
              "\n",
              "  const cancel = document.createElement('button');\n",
              "  inputElement.parentElement.appendChild(cancel);\n",
              "  cancel.textContent = 'Cancel upload';\n",
              "  const cancelPromise = new Promise((resolve) => {\n",
              "    cancel.onclick = () => {\n",
              "      resolve(null);\n",
              "    };\n",
              "  });\n",
              "\n",
              "  // Wait for the user to pick the files.\n",
              "  const files = yield {\n",
              "    promise: Promise.race([pickedPromise, cancelPromise]),\n",
              "    response: {\n",
              "      action: 'starting',\n",
              "    }\n",
              "  };\n",
              "\n",
              "  cancel.remove();\n",
              "\n",
              "  // Disable the input element since further picks are not allowed.\n",
              "  inputElement.disabled = true;\n",
              "\n",
              "  if (!files) {\n",
              "    return {\n",
              "      response: {\n",
              "        action: 'complete',\n",
              "      }\n",
              "    };\n",
              "  }\n",
              "\n",
              "  for (const file of files) {\n",
              "    const li = document.createElement('li');\n",
              "    li.append(span(file.name, {fontWeight: 'bold'}));\n",
              "    li.append(span(\n",
              "        `(${file.type || 'n/a'}) - ${file.size} bytes, ` +\n",
              "        `last modified: ${\n",
              "            file.lastModifiedDate ? file.lastModifiedDate.toLocaleDateString() :\n",
              "                                    'n/a'} - `));\n",
              "    const percent = span('0% done');\n",
              "    li.appendChild(percent);\n",
              "\n",
              "    outputElement.appendChild(li);\n",
              "\n",
              "    const fileDataPromise = new Promise((resolve) => {\n",
              "      const reader = new FileReader();\n",
              "      reader.onload = (e) => {\n",
              "        resolve(e.target.result);\n",
              "      };\n",
              "      reader.readAsArrayBuffer(file);\n",
              "    });\n",
              "    // Wait for the data to be ready.\n",
              "    let fileData = yield {\n",
              "      promise: fileDataPromise,\n",
              "      response: {\n",
              "        action: 'continue',\n",
              "      }\n",
              "    };\n",
              "\n",
              "    // Use a chunked sending to avoid message size limits. See b/62115660.\n",
              "    let position = 0;\n",
              "    do {\n",
              "      const length = Math.min(fileData.byteLength - position, MAX_PAYLOAD_SIZE);\n",
              "      const chunk = new Uint8Array(fileData, position, length);\n",
              "      position += length;\n",
              "\n",
              "      const base64 = btoa(String.fromCharCode.apply(null, chunk));\n",
              "      yield {\n",
              "        response: {\n",
              "          action: 'append',\n",
              "          file: file.name,\n",
              "          data: base64,\n",
              "        },\n",
              "      };\n",
              "\n",
              "      let percentDone = fileData.byteLength === 0 ?\n",
              "          100 :\n",
              "          Math.round((position / fileData.byteLength) * 100);\n",
              "      percent.textContent = `${percentDone}% done`;\n",
              "\n",
              "    } while (position < fileData.byteLength);\n",
              "  }\n",
              "\n",
              "  // All done.\n",
              "  yield {\n",
              "    response: {\n",
              "      action: 'complete',\n",
              "    }\n",
              "  };\n",
              "}\n",
              "\n",
              "scope.google = scope.google || {};\n",
              "scope.google.colab = scope.google.colab || {};\n",
              "scope.google.colab._files = {\n",
              "  _uploadFiles,\n",
              "  _uploadFilesContinue,\n",
              "};\n",
              "})(self);\n",
              "</script> "
            ],
            "text/plain": [
              "<IPython.core.display.HTML object>"
            ]
          },
          "metadata": {},
          "output_type": "display_data"
        },
        {
          "output_type": "error",
          "ename": "KeyboardInterrupt",
          "evalue": "",
          "traceback": [
            "\u001b[0;31m---------------------------------------------------------------------------\u001b[0m",
            "\u001b[0;31mKeyboardInterrupt\u001b[0m                         Traceback (most recent call last)",
            "\u001b[0;32m<ipython-input-37-ffc592b72281>\u001b[0m in \u001b[0;36m<cell line: 3>\u001b[0;34m()\u001b[0m\n\u001b[1;32m      1\u001b[0m \u001b[0;31m#upload file\u001b[0m\u001b[0;34m\u001b[0m\u001b[0;34m\u001b[0m\u001b[0m\n\u001b[1;32m      2\u001b[0m \u001b[0;32mfrom\u001b[0m \u001b[0mgoogle\u001b[0m\u001b[0;34m.\u001b[0m\u001b[0mcolab\u001b[0m \u001b[0;32mimport\u001b[0m \u001b[0mfiles\u001b[0m\u001b[0;34m\u001b[0m\u001b[0;34m\u001b[0m\u001b[0m\n\u001b[0;32m----> 3\u001b[0;31m \u001b[0muploaded\u001b[0m \u001b[0;34m=\u001b[0m \u001b[0mfiles\u001b[0m\u001b[0;34m.\u001b[0m\u001b[0mupload\u001b[0m\u001b[0;34m(\u001b[0m\u001b[0;34m)\u001b[0m\u001b[0;34m\u001b[0m\u001b[0;34m\u001b[0m\u001b[0m\n\u001b[0m",
            "\u001b[0;32m/usr/local/lib/python3.10/dist-packages/google/colab/files.py\u001b[0m in \u001b[0;36mupload\u001b[0;34m()\u001b[0m\n\u001b[1;32m     67\u001b[0m   \"\"\"\n\u001b[1;32m     68\u001b[0m \u001b[0;34m\u001b[0m\u001b[0m\n\u001b[0;32m---> 69\u001b[0;31m   \u001b[0muploaded_files\u001b[0m \u001b[0;34m=\u001b[0m \u001b[0m_upload_files\u001b[0m\u001b[0;34m(\u001b[0m\u001b[0mmultiple\u001b[0m\u001b[0;34m=\u001b[0m\u001b[0;32mTrue\u001b[0m\u001b[0;34m)\u001b[0m\u001b[0;34m\u001b[0m\u001b[0;34m\u001b[0m\u001b[0m\n\u001b[0m\u001b[1;32m     70\u001b[0m   \u001b[0;31m# Mapping from original filename to filename as saved locally.\u001b[0m\u001b[0;34m\u001b[0m\u001b[0;34m\u001b[0m\u001b[0m\n\u001b[1;32m     71\u001b[0m   \u001b[0mlocal_filenames\u001b[0m \u001b[0;34m=\u001b[0m \u001b[0mdict\u001b[0m\u001b[0;34m(\u001b[0m\u001b[0;34m)\u001b[0m\u001b[0;34m\u001b[0m\u001b[0;34m\u001b[0m\u001b[0m\n",
            "\u001b[0;32m/usr/local/lib/python3.10/dist-packages/google/colab/files.py\u001b[0m in \u001b[0;36m_upload_files\u001b[0;34m(multiple)\u001b[0m\n\u001b[1;32m    162\u001b[0m \u001b[0;34m\u001b[0m\u001b[0m\n\u001b[1;32m    163\u001b[0m   \u001b[0;32mwhile\u001b[0m \u001b[0mresult\u001b[0m\u001b[0;34m[\u001b[0m\u001b[0;34m'action'\u001b[0m\u001b[0;34m]\u001b[0m \u001b[0;34m!=\u001b[0m \u001b[0;34m'complete'\u001b[0m\u001b[0;34m:\u001b[0m\u001b[0;34m\u001b[0m\u001b[0;34m\u001b[0m\u001b[0m\n\u001b[0;32m--> 164\u001b[0;31m     result = _output.eval_js(\n\u001b[0m\u001b[1;32m    165\u001b[0m         'google.colab._files._uploadFilesContinue(\"{output_id}\")'.format(\n\u001b[1;32m    166\u001b[0m             \u001b[0moutput_id\u001b[0m\u001b[0;34m=\u001b[0m\u001b[0moutput_id\u001b[0m\u001b[0;34m\u001b[0m\u001b[0;34m\u001b[0m\u001b[0m\n",
            "\u001b[0;32m/usr/local/lib/python3.10/dist-packages/google/colab/output/_js.py\u001b[0m in \u001b[0;36meval_js\u001b[0;34m(script, ignore_result, timeout_sec)\u001b[0m\n\u001b[1;32m     38\u001b[0m   \u001b[0;32mif\u001b[0m \u001b[0mignore_result\u001b[0m\u001b[0;34m:\u001b[0m\u001b[0;34m\u001b[0m\u001b[0;34m\u001b[0m\u001b[0m\n\u001b[1;32m     39\u001b[0m     \u001b[0;32mreturn\u001b[0m\u001b[0;34m\u001b[0m\u001b[0;34m\u001b[0m\u001b[0m\n\u001b[0;32m---> 40\u001b[0;31m   \u001b[0;32mreturn\u001b[0m \u001b[0m_message\u001b[0m\u001b[0;34m.\u001b[0m\u001b[0mread_reply_from_input\u001b[0m\u001b[0;34m(\u001b[0m\u001b[0mrequest_id\u001b[0m\u001b[0;34m,\u001b[0m \u001b[0mtimeout_sec\u001b[0m\u001b[0;34m)\u001b[0m\u001b[0;34m\u001b[0m\u001b[0;34m\u001b[0m\u001b[0m\n\u001b[0m\u001b[1;32m     41\u001b[0m \u001b[0;34m\u001b[0m\u001b[0m\n\u001b[1;32m     42\u001b[0m \u001b[0;34m\u001b[0m\u001b[0m\n",
            "\u001b[0;32m/usr/local/lib/python3.10/dist-packages/google/colab/_message.py\u001b[0m in \u001b[0;36mread_reply_from_input\u001b[0;34m(message_id, timeout_sec)\u001b[0m\n\u001b[1;32m     94\u001b[0m     \u001b[0mreply\u001b[0m \u001b[0;34m=\u001b[0m \u001b[0m_read_next_input_message\u001b[0m\u001b[0;34m(\u001b[0m\u001b[0;34m)\u001b[0m\u001b[0;34m\u001b[0m\u001b[0;34m\u001b[0m\u001b[0m\n\u001b[1;32m     95\u001b[0m     \u001b[0;32mif\u001b[0m \u001b[0mreply\u001b[0m \u001b[0;34m==\u001b[0m \u001b[0m_NOT_READY\u001b[0m \u001b[0;32mor\u001b[0m \u001b[0;32mnot\u001b[0m \u001b[0misinstance\u001b[0m\u001b[0;34m(\u001b[0m\u001b[0mreply\u001b[0m\u001b[0;34m,\u001b[0m \u001b[0mdict\u001b[0m\u001b[0;34m)\u001b[0m\u001b[0;34m:\u001b[0m\u001b[0;34m\u001b[0m\u001b[0;34m\u001b[0m\u001b[0m\n\u001b[0;32m---> 96\u001b[0;31m       \u001b[0mtime\u001b[0m\u001b[0;34m.\u001b[0m\u001b[0msleep\u001b[0m\u001b[0;34m(\u001b[0m\u001b[0;36m0.025\u001b[0m\u001b[0;34m)\u001b[0m\u001b[0;34m\u001b[0m\u001b[0;34m\u001b[0m\u001b[0m\n\u001b[0m\u001b[1;32m     97\u001b[0m       \u001b[0;32mcontinue\u001b[0m\u001b[0;34m\u001b[0m\u001b[0;34m\u001b[0m\u001b[0m\n\u001b[1;32m     98\u001b[0m     if (\n",
            "\u001b[0;31mKeyboardInterrupt\u001b[0m: "
          ]
        }
      ],
      "source": [
        "#upload file\n",
        "from google.colab import files\n",
        "uploaded = files.upload()"
      ]
    },
    {
      "cell_type": "code",
      "execution_count": null,
      "metadata": {
        "id": "0Fbha-xtQ7cQ"
      },
      "outputs": [],
      "source": [
        "bd = sqlContext.read.format(\n",
        "   \"csv\").option(\"header\", \"true\").load(\"Combined_Flights_2022.csv\",\n",
        "    inferSchema=True)#com.databricks.spark.csv\n",
        "df = sqlContext.read.format(\n",
        "    \"csv\").option(\"header\", \"true\").load(\"Combined_Flights_2022.csv\",\n",
        "    inferSchema=True)#com.databricks.spark.csv"
      ]
    },
    {
      "cell_type": "code",
      "execution_count": null,
      "metadata": {
        "id": "VPZ7ehV-Zm1Q"
      },
      "outputs": [],
      "source": [
        "df_25000 = bd.limit(40000)"
      ]
    },
    {
      "cell_type": "code",
      "execution_count": null,
      "metadata": {
        "colab": {
          "base_uri": "https://localhost:8080/"
        },
        "id": "GCuBENuYZ31f",
        "outputId": "638b700e-e89c-4c90-a3fb-e2365d238126"
      },
      "outputs": [
        {
          "data": {
            "text/plain": [
              "38554"
            ]
          },
          "execution_count": 8,
          "metadata": {},
          "output_type": "execute_result"
        }
      ],
      "source": [
        "bd1 = df_25000.filter((bd.Cancelled == 0)&(bd.Diverted == 0))\n",
        "bd1.count()"
      ]
    },
    {
      "cell_type": "code",
      "execution_count": null,
      "metadata": {
        "colab": {
          "base_uri": "https://localhost:8080/"
        },
        "id": "jcD5VXkgZoyg",
        "outputId": "f003af37-b3e6-43e3-aab5-403d5697b79a"
      },
      "outputs": [
        {
          "name": "stdout",
          "output_type": "stream",
          "text": [
            "+-------------------------+------------------+-------+\n",
            "|Marketing_Airline_Network|IndexUniqueCarrier|  count|\n",
            "+-------------------------+------------------+-------+\n",
            "|                       AA|               0.0|1003877|\n",
            "|                       DL|               1.0| 826374|\n",
            "|                       UA|               2.0| 715220|\n",
            "|                       WN|               3.0| 712246|\n",
            "|                       AS|               4.0| 217745|\n",
            "|                       B6|               5.0| 148527|\n",
            "|                       NK|               6.0| 124760|\n",
            "|                       F9|               7.0|  83894|\n",
            "|                       G4|               8.0|  70452|\n",
            "|                       HA|               9.0|  41821|\n",
            "+-------------------------+------------------+-------+\n",
            "\n"
          ]
        }
      ],
      "source": [
        "#Two new variables are created (delay and time slot)\n",
        "# DELAY - Flights with Arrival delay greater or equal to 15 min\n",
        "bd1 = bd.filter((bd.Cancelled == 0)&(bd.Diverted == 0))\n",
        "bd1 = bd1.withColumn('Delayed', (bd.ArrDelay >=15).cast('int'))\n",
        "\n",
        "## TIME SLOT by departure time (using SQL Context)\n",
        "sqlContext.registerDataFrameAsTable(bd1, \"bd1\")\n",
        "\n",
        "bd1 = sqlContext.sql(\"select *, case \\\n",
        "               when CRSDepTime <= 800 then 1 \\\n",
        "               when 800 < CRSDepTime and CRSDepTime <= 1200 then 2 \\\n",
        "               when 1200 < CRSDepTime and CRSDepTime <= 1600 then 3 \\\n",
        "               when 1600 < CRSDepTime and CRSDepTime <= 2100 then 4 \\\n",
        "               else 1 end as TimeSlot \\\n",
        "               from bd1\")\n",
        "\n",
        "\n",
        "#Indexing \"UniqueCarrier\" (from string to numeric)\n",
        "\n",
        "'''\n",
        "Yes, Marketing_Airline_Network can be similar to UniqueCarrier as it refers to\n",
        "the airline that markets and sells the flight. It is typically identified by the\n",
        " two-letter code assigned by the International Air Transport Association (IATA)\n",
        "'''\n",
        "\n",
        "indexer = StringIndexer(inputCol='Marketing_Airline_Network',outputCol='IndexUniqueCarrier')\n",
        "bd2=indexer.fit(bd1).transform(bd1)\n",
        "\n",
        "bd2.groupBy('Marketing_Airline_Network','IndexUniqueCarrier').count().sort('IndexUniqueCarrier').show()"
      ]
    },
    {
      "cell_type": "code",
      "execution_count": null,
      "metadata": {
        "colab": {
          "base_uri": "https://localhost:8080/"
        },
        "id": "-8p8n8gZaeuT",
        "outputId": "f1b384ad-84b4-4a7a-c24a-dbf66c2b5a46"
      },
      "outputs": [
        {
          "output_type": "stream",
          "name": "stdout",
          "text": [
            "root\n",
            " |-- FlightDate: string (nullable = true)\n",
            " |-- Airline: string (nullable = true)\n",
            " |-- Origin: string (nullable = true)\n",
            " |-- Dest: string (nullable = true)\n",
            " |-- Cancelled: boolean (nullable = true)\n",
            " |-- Diverted: boolean (nullable = true)\n",
            " |-- CRSDepTime: integer (nullable = true)\n",
            " |-- DepTime: double (nullable = true)\n",
            " |-- DepDelayMinutes: double (nullable = true)\n",
            " |-- DepDelay: double (nullable = true)\n",
            " |-- ArrTime: double (nullable = true)\n",
            " |-- ArrDelayMinutes: double (nullable = true)\n",
            " |-- AirTime: double (nullable = true)\n",
            " |-- CRSElapsedTime: double (nullable = true)\n",
            " |-- ActualElapsedTime: double (nullable = true)\n",
            " |-- Distance: double (nullable = true)\n",
            " |-- Year: integer (nullable = true)\n",
            " |-- Quarter: integer (nullable = true)\n",
            " |-- Month: integer (nullable = true)\n",
            " |-- DayofMonth: integer (nullable = true)\n",
            " |-- DayOfWeek: integer (nullable = true)\n",
            " |-- Marketing_Airline_Network: string (nullable = true)\n",
            " |-- Operated_or_Branded_Code_Share_Partners: string (nullable = true)\n",
            " |-- DOT_ID_Marketing_Airline: integer (nullable = true)\n",
            " |-- IATA_Code_Marketing_Airline: string (nullable = true)\n",
            " |-- Flight_Number_Marketing_Airline: integer (nullable = true)\n",
            " |-- Operating_Airline: string (nullable = true)\n",
            " |-- DOT_ID_Operating_Airline: integer (nullable = true)\n",
            " |-- IATA_Code_Operating_Airline: string (nullable = true)\n",
            " |-- Tail_Number: string (nullable = true)\n",
            " |-- Flight_Number_Operating_Airline: integer (nullable = true)\n",
            " |-- OriginAirportID: integer (nullable = true)\n",
            " |-- OriginAirportSeqID: integer (nullable = true)\n",
            " |-- OriginCityMarketID: integer (nullable = true)\n",
            " |-- OriginCityName: string (nullable = true)\n",
            " |-- OriginState: string (nullable = true)\n",
            " |-- OriginStateFips: integer (nullable = true)\n",
            " |-- OriginStateName: string (nullable = true)\n",
            " |-- OriginWac: integer (nullable = true)\n",
            " |-- DestAirportID: integer (nullable = true)\n",
            " |-- DestAirportSeqID: integer (nullable = true)\n",
            " |-- DestCityMarketID: integer (nullable = true)\n",
            " |-- DestCityName: string (nullable = true)\n",
            " |-- DestState: string (nullable = true)\n",
            " |-- DestStateFips: integer (nullable = true)\n",
            " |-- DestStateName: string (nullable = true)\n",
            " |-- DestWac: integer (nullable = true)\n",
            " |-- DepDel15: double (nullable = true)\n",
            " |-- DepartureDelayGroups: double (nullable = true)\n",
            " |-- DepTimeBlk: string (nullable = true)\n",
            " |-- TaxiOut: double (nullable = true)\n",
            " |-- WheelsOff: double (nullable = true)\n",
            " |-- WheelsOn: double (nullable = true)\n",
            " |-- TaxiIn: double (nullable = true)\n",
            " |-- CRSArrTime: integer (nullable = true)\n",
            " |-- ArrDelay: double (nullable = true)\n",
            " |-- ArrDel15: double (nullable = true)\n",
            " |-- ArrivalDelayGroups: double (nullable = true)\n",
            " |-- ArrTimeBlk: string (nullable = true)\n",
            " |-- DistanceGroup: integer (nullable = true)\n",
            " |-- DivAirportLandings: integer (nullable = true)\n",
            "\n",
            "+-------+----------+--------------------+-------+-------+------------------+------------------+------------------+------------------+------------------+------------------+------------------+------------------+-----------------+-----------------+-------+------------------+------------------+------------------+-----------------+-------------------------+---------------------------------------+------------------------+---------------------------+-------------------------------+-----------------+------------------------+---------------------------+-----------+-------------------------------+------------------+------------------+------------------+--------------+-----------+------------------+---------------+-----------------+------------------+------------------+------------------+------------+---------+------------------+-------------+------------------+-------------------+--------------------+----------+------------------+------------------+------------------+-----------------+-----------------+-----------------+------------------+-------------------+----------+------------------+--------------------+\n",
            "|summary|FlightDate|             Airline| Origin|   Dest|        CRSDepTime|           DepTime|   DepDelayMinutes|          DepDelay|           ArrTime|   ArrDelayMinutes|           AirTime|    CRSElapsedTime|ActualElapsedTime|         Distance|   Year|           Quarter|             Month|        DayofMonth|        DayOfWeek|Marketing_Airline_Network|Operated_or_Branded_Code_Share_Partners|DOT_ID_Marketing_Airline|IATA_Code_Marketing_Airline|Flight_Number_Marketing_Airline|Operating_Airline|DOT_ID_Operating_Airline|IATA_Code_Operating_Airline|Tail_Number|Flight_Number_Operating_Airline|   OriginAirportID|OriginAirportSeqID|OriginCityMarketID|OriginCityName|OriginState|   OriginStateFips|OriginStateName|        OriginWac|     DestAirportID|  DestAirportSeqID|  DestCityMarketID|DestCityName|DestState|     DestStateFips|DestStateName|           DestWac|           DepDel15|DepartureDelayGroups|DepTimeBlk|           TaxiOut|         WheelsOff|          WheelsOn|           TaxiIn|       CRSArrTime|         ArrDelay|          ArrDel15| ArrivalDelayGroups|ArrTimeBlk|     DistanceGroup|  DivAirportLandings|\n",
            "+-------+----------+--------------------+-------+-------+------------------+------------------+------------------+------------------+------------------+------------------+------------------+------------------+-----------------+-----------------+-------+------------------+------------------+------------------+-----------------+-------------------------+---------------------------------------+------------------------+---------------------------+-------------------------------+-----------------+------------------------+---------------------------+-----------+-------------------------------+------------------+------------------+------------------+--------------+-----------+------------------+---------------+-----------------+------------------+------------------+------------------+------------+---------+------------------+-------------+------------------+-------------------+--------------------+----------+------------------+------------------+------------------+-----------------+-----------------+-----------------+------------------+-------------------+----------+------------------+--------------------+\n",
            "|  count|   4078318|             4078318|4078318|4078318|           4078318|           3957885|           3957823|           3957823|           3954079|           3944916|           3944916|           4078318|          3944916|          4078318|4078318|           4078318|           4078318|           4078318|          4078318|                  4078318|                                4078318|                 4078318|                    4078318|                        4078318|          4078318|                 4078318|                    4078318|    4051523|                        4078318|           4078318|           4078318|           4078318|       4078318|    4078318|           4078318|        4078318|          4078318|           4078318|           4078318|           4078318|     4078318|  4078318|           4078318|      4078318|           4078318|            3957823|             3957823|   4078318|           3955652|           3955652|           3954076|          3954076|          4078318|          3944916|           3944916|            3944916|   4078318|           4078318|             4078318|\n",
            "|   mean|      null|                null|   null|   null|1329.5866648946944|1334.3739312789533|16.014938010113134|13.090486613474125|1457.8860179576584|15.783071426615928|111.00754870319165|141.32107819939495|135.8623641162448| 797.865703213923| 2022.0|1.7412067916234095| 4.083803420920095|15.711307946069924|4.005566020109271|                     null|                                   null|      19831.006817516438|                       null|             2562.1153048879464|             null|      19991.217456804497|                       null|       null|              2562.145420244326|12659.939662625622|1265997.8089719831|31757.077015083178|          null|       null|27.465040980129555|           null|53.99368097338167|12659.897625197447|1265993.6052169057|31757.039190911546|        null|     null|27.465502444880464|         null|53.993381340052444|  0.218462523463025| 0.21412478526705211|      null|16.973750218674443|1356.5755786909465|1455.0726842377335| 7.89438695664929|1486.057737528069|7.528486284625579|0.2164715294318054|-0.0625610279154233|      null|3.6635156944603144|0.003685097630935...|\n",
            "| stddev|      null|                null|   null|   null| 490.4801248134615| 505.6219331420918|52.314976096088245| 53.32016317670963| 543.1841060487743|51.984235813139364| 69.96245895307061| 71.79634978129242|71.85500903526687|591.4741646086311|    0.0|0.7037563049051049|1.9989184354395755| 8.760122370720584|2.007050147176484|                     null|                                   null|      276.09066441875535|                       null|             1745.8262843514103|             null|       376.7694333078187|                       null|       null|             1745.8733703346136|1522.7127357547113|152271.07912723057|1320.2955693526724|          null|       null|16.705471957549708|           null|26.64819712522064|1522.7183178838786|152271.63747754405|1320.2864993789178|        null|     null|16.705670419850957|         null|26.648491337391935|0.41320296761305325|   2.345972527178781|      null|  9.49540682631691| 507.5579520102544| 537.8427663450484|6.663118162768139|518.5077759377792|55.24625266083814|0.4118393489848401|  2.487441612744309|      null|2.3208479241084934|  0.1141330707989219|\n",
            "|    min|2022-01-01|Air Wisconsin Air...|    ABE|    ABE|                 1|               1.0|               0.0|             -78.0|               1.0|               0.0|               8.0|             -48.0|             14.0|             31.0|   2022|                 1|                 1|                 1|                1|                       AA|                                     AA|                   19393|                         AA|                              1|               9E|                   19393|                         9E|      202NV|                              1|             10135|           1013506|             30070|  Aberdeen, SD|         AK|                 1|        Alabama|                1|             10135|           1013506|             30070|Aberdeen, SD|       AK|                 1|      Alabama|                 1|                0.0|                -2.0| 0001-0559|               1.0|               1.0|               1.0|              1.0|                1|           -100.0|               0.0|               -2.0| 0001-0559|                 1|                   0|\n",
            "|    max|2022-07-31|United Air Lines ...|    YUM|    YUM|              2359|            2400.0|            7223.0|            7223.0|            2400.0|            7232.0|             727.0|             690.0|            764.0|           5095.0|   2022|                 3|                 7|                31|                7|                       WN|                                     WN|                   20436|                         WN|                           9680|               ZW|                   20500|                         ZW|      NT200|                           9680|             16869|           1686901|             36101|      Yuma, AZ|         WY|                78|        Wyoming|               93|             16869|           1686901|             36101|    Yuma, AZ|       WY|                78|      Wyoming|                93|                1.0|                12.0| 2300-2359|             221.0|            2400.0|            2400.0|            290.0|             2359|           7232.0|               1.0|               12.0| 2300-2359|                11|                   9|\n",
            "+-------+----------+--------------------+-------+-------+------------------+------------------+------------------+------------------+------------------+------------------+------------------+------------------+-----------------+-----------------+-------+------------------+------------------+------------------+-----------------+-------------------------+---------------------------------------+------------------------+---------------------------+-------------------------------+-----------------+------------------------+---------------------------+-----------+-------------------------------+------------------+------------------+------------------+--------------+-----------+------------------+---------------+-----------------+------------------+------------------+------------------+------------+---------+------------------+-------------+------------------+-------------------+--------------------+----------+------------------+------------------+------------------+-----------------+-----------------+-----------------+------------------+-------------------+----------+------------------+--------------------+\n",
            "\n"
          ]
        }
      ],
      "source": [
        "df = bd\n",
        "# Print DataFrame schema\n",
        "df.printSchema()\n",
        "\n",
        "# Print DataFrame summary statistics\n",
        "df.describe().show()"
      ]
    },
    {
      "cell_type": "code",
      "execution_count": null,
      "metadata": {
        "colab": {
          "base_uri": "https://localhost:8080/"
        },
        "id": "7oHwlvVGb0_k",
        "outputId": "8311b343-4835-444b-eb19-6191f528035a"
      },
      "outputs": [
        {
          "output_type": "stream",
          "name": "stdout",
          "text": [
            "+----------+-------+------+----+---------+--------+----------+-------+---------------+--------+-------+---------------+-------+--------------+-----------------+--------+----+-------+-----+----------+---------+-------------------------+---------------------------------------+------------------------+---------------------------+-------------------------------+-----------------+------------------------+---------------------------+-----------+-------------------------------+---------------+------------------+------------------+--------------+-----------+---------------+---------------+---------+-------------+----------------+----------------+------------+---------+-------------+-------------+-------+--------+--------------------+----------+-------+---------+--------+------+----------+--------+--------+------------------+----------+-------------+------------------+\n",
            "|FlightDate|Airline|Origin|Dest|Cancelled|Diverted|CRSDepTime|DepTime|DepDelayMinutes|DepDelay|ArrTime|ArrDelayMinutes|AirTime|CRSElapsedTime|ActualElapsedTime|Distance|Year|Quarter|Month|DayofMonth|DayOfWeek|Marketing_Airline_Network|Operated_or_Branded_Code_Share_Partners|DOT_ID_Marketing_Airline|IATA_Code_Marketing_Airline|Flight_Number_Marketing_Airline|Operating_Airline|DOT_ID_Operating_Airline|IATA_Code_Operating_Airline|Tail_Number|Flight_Number_Operating_Airline|OriginAirportID|OriginAirportSeqID|OriginCityMarketID|OriginCityName|OriginState|OriginStateFips|OriginStateName|OriginWac|DestAirportID|DestAirportSeqID|DestCityMarketID|DestCityName|DestState|DestStateFips|DestStateName|DestWac|DepDel15|DepartureDelayGroups|DepTimeBlk|TaxiOut|WheelsOff|WheelsOn|TaxiIn|CRSArrTime|ArrDelay|ArrDel15|ArrivalDelayGroups|ArrTimeBlk|DistanceGroup|DivAirportLandings|\n",
            "+----------+-------+------+----+---------+--------+----------+-------+---------------+--------+-------+---------------+-------+--------------+-----------------+--------+----+-------+-----+----------+---------+-------------------------+---------------------------------------+------------------------+---------------------------+-------------------------------+-----------------+------------------------+---------------------------+-----------+-------------------------------+---------------+------------------+------------------+--------------+-----------+---------------+---------------+---------+-------------+----------------+----------------+------------+---------+-------------+-------------+-------+--------+--------------------+----------+-------+---------+--------+------+----------+--------+--------+------------------+----------+-------------+------------------+\n",
            "|         0|      0|     0|   0|        0|       0|         0| 120433|         120495|  120495| 124239|         133402| 133402|             0|           133402|       0|   0|      0|    0|         0|        0|                        0|                                      0|                       0|                          0|                              0|                0|                       0|                          0|      26795|                              0|              0|                 0|                 0|             0|          0|              0|              0|        0|            0|               0|               0|           0|        0|            0|            0|      0|  120495|              120495|         0| 122666|   122666|  124242|124242|         0|  133402|  133402|            133402|         0|            0|                 0|\n",
            "+----------+-------+------+----+---------+--------+----------+-------+---------------+--------+-------+---------------+-------+--------------+-----------------+--------+----+-------+-----+----------+---------+-------------------------+---------------------------------------+------------------------+---------------------------+-------------------------------+-----------------+------------------------+---------------------------+-----------+-------------------------------+---------------+------------------+------------------+--------------+-----------+---------------+---------------+---------+-------------+----------------+----------------+------------+---------+-------------+-------------+-------+--------+--------------------+----------+-------+---------+--------+------+----------+--------+--------+------------------+----------+-------------+------------------+\n",
            "\n"
          ]
        }
      ],
      "source": [
        "# Check for null values\n",
        "from pyspark.sql.functions import isnan, when, count, col\n",
        "\n",
        "null_counts = df.select([count(when(col(c).isNull() | (col(c).cast(\"string\") == \"\"), c)).alias(c) if df.schema[c].dataType != \"boolean\" else count(when(col(c).isNull(), c)).alias(c) for c in df.columns])\n",
        "null_counts.show()"
      ]
    },
    {
      "cell_type": "code",
      "execution_count": null,
      "metadata": {
        "id": "CdS-Wwa0b_JM"
      },
      "outputs": [],
      "source": [
        "df = df.fillna(0)"
      ]
    },
    {
      "cell_type": "code",
      "execution_count": null,
      "metadata": {
        "colab": {
          "base_uri": "https://localhost:8080/"
        },
        "id": "UNgtxOlocDKw",
        "outputId": "173e11ed-4642-41ac-8c65-cb1a753eb8e3"
      },
      "outputs": [
        {
          "output_type": "stream",
          "name": "stdout",
          "text": [
            "+----------+-------+------+----+---------+--------+----------+-------+---------------+--------+-------+---------------+-------+--------------+-----------------+--------+----+-------+-----+----------+---------+-------------------------+---------------------------------------+------------------------+---------------------------+-------------------------------+-----------------+------------------------+---------------------------+-----------+-------------------------------+---------------+------------------+------------------+--------------+-----------+---------------+---------------+---------+-------------+----------------+----------------+------------+---------+-------------+-------------+-------+--------+--------------------+----------+-------+---------+--------+------+----------+--------+--------+------------------+----------+-------------+------------------+\n",
            "|FlightDate|Airline|Origin|Dest|Cancelled|Diverted|CRSDepTime|DepTime|DepDelayMinutes|DepDelay|ArrTime|ArrDelayMinutes|AirTime|CRSElapsedTime|ActualElapsedTime|Distance|Year|Quarter|Month|DayofMonth|DayOfWeek|Marketing_Airline_Network|Operated_or_Branded_Code_Share_Partners|DOT_ID_Marketing_Airline|IATA_Code_Marketing_Airline|Flight_Number_Marketing_Airline|Operating_Airline|DOT_ID_Operating_Airline|IATA_Code_Operating_Airline|Tail_Number|Flight_Number_Operating_Airline|OriginAirportID|OriginAirportSeqID|OriginCityMarketID|OriginCityName|OriginState|OriginStateFips|OriginStateName|OriginWac|DestAirportID|DestAirportSeqID|DestCityMarketID|DestCityName|DestState|DestStateFips|DestStateName|DestWac|DepDel15|DepartureDelayGroups|DepTimeBlk|TaxiOut|WheelsOff|WheelsOn|TaxiIn|CRSArrTime|ArrDelay|ArrDel15|ArrivalDelayGroups|ArrTimeBlk|DistanceGroup|DivAirportLandings|\n",
            "+----------+-------+------+----+---------+--------+----------+-------+---------------+--------+-------+---------------+-------+--------------+-----------------+--------+----+-------+-----+----------+---------+-------------------------+---------------------------------------+------------------------+---------------------------+-------------------------------+-----------------+------------------------+---------------------------+-----------+-------------------------------+---------------+------------------+------------------+--------------+-----------+---------------+---------------+---------+-------------+----------------+----------------+------------+---------+-------------+-------------+-------+--------+--------------------+----------+-------+---------+--------+------+----------+--------+--------+------------------+----------+-------------+------------------+\n",
            "|         0|      0|     0|   0|        0|       0|         0|      0|              0|       0|      0|              0|      0|             0|                0|       0|   0|      0|    0|         0|        0|                        0|                                      0|                       0|                          0|                              0|                0|                       0|                          0|      26795|                              0|              0|                 0|                 0|             0|          0|              0|              0|        0|            0|               0|               0|           0|        0|            0|            0|      0|       0|                   0|         0|      0|        0|       0|     0|         0|       0|       0|                 0|         0|            0|                 0|\n",
            "+----------+-------+------+----+---------+--------+----------+-------+---------------+--------+-------+---------------+-------+--------------+-----------------+--------+----+-------+-----+----------+---------+-------------------------+---------------------------------------+------------------------+---------------------------+-------------------------------+-----------------+------------------------+---------------------------+-----------+-------------------------------+---------------+------------------+------------------+--------------+-----------+---------------+---------------+---------+-------------+----------------+----------------+------------+---------+-------------+-------------+-------+--------+--------------------+----------+-------+---------+--------+------+----------+--------+--------+------------------+----------+-------------+------------------+\n",
            "\n"
          ]
        }
      ],
      "source": [
        "null_counts = df.select([count(when(col(c).isNull() | (col(c).cast(\"string\") == \"\"), c)).alias(c) if df.schema[c].dataType != \"boolean\" else count(when(col(c).isNull(), c)).alias(c) for c in df.columns])\n",
        "null_counts.show()\n",
        "#Tail Number is neglected"
      ]
    },
    {
      "cell_type": "code",
      "execution_count": null,
      "metadata": {
        "colab": {
          "base_uri": "https://localhost:8080/",
          "height": 449
        },
        "id": "uyCGPEAqcQGq",
        "outputId": "03ccda8d-a960-41e7-8904-4a4b964e271f"
      },
      "outputs": [
        {
          "output_type": "display_data",
          "data": {
            "text/plain": [
              "<Figure size 640x480 with 1 Axes>"
            ],
            "image/png": "[encoded data removed]"
          },
          "metadata": {}
        }
      ],
      "source": [
        "import matplotlib.pyplot as plt\n",
        "import seaborn as sns\n",
        "\n",
        "# Select departure delay and arrival delay columns\n",
        "delay_df = df.select(\"DepDelay\", \"ArrDelay\").toPandas()\n",
        "\n",
        "# Create scatterplot using Seaborn\n",
        "sns.scatterplot(x=\"DepDelay\", y=\"ArrDelay\", data=delay_df)\n",
        "\n",
        "# Show plot\n",
        "plt.show()"
      ]
    },
    {
      "cell_type": "code",
      "execution_count": null,
      "metadata": {
        "colab": {
          "base_uri": "https://localhost:8080/",
          "height": 506
        },
        "id": "iKYm4xsFcUDj",
        "outputId": "1c4e5924-a90e-412e-b3c1-1fd24e2e1ab9"
      },
      "outputs": [
        {
          "data": {
            "image/png": "[encoded data removed]",
            "text/plain": [
              "<Figure size 500x500 with 1 Axes>"
            ]
          },
          "metadata": {},
          "output_type": "display_data"
        }
      ],
      "source": [
        "import seaborn as sns\n",
        "import matplotlib.pyplot as plt\n",
        "\n",
        "# Select the relevant columns for the scatterplot\n",
        "cols = [\"AirTime\", \"Distance\"]\n",
        "\n",
        "# Convert PySpark DataFrame to Pandas DataFrame\n",
        "df_pandas = df.select(cols).toPandas()\n",
        "\n",
        "# Create scatterplot with linear regression line\n",
        "sns.lmplot(x=\"AirTime\", y=\"Distance\", data=df_pandas)\n",
        "\n",
        "# Show the plot\n",
        "plt.show()"
      ]
    },
    {
      "cell_type": "code",
      "execution_count": null,
      "metadata": {
        "colab": {
          "base_uri": "https://localhost:8080/",
          "height": 472
        },
        "id": "S8oQQp6QcZKE",
        "outputId": "6252863f-4954-47f7-a351-8d5c518628b7"
      },
      "outputs": [
        {
          "output_type": "display_data",
          "data": {
            "text/plain": [
              "<Figure size 640x480 with 1 Axes>"
            ],
            "image/png": "[encoded data removed]"
          },
          "metadata": {}
        }
      ],
      "source": [
        "import seaborn as sns\n",
        "import matplotlib.pyplot as plt\n",
        "\n",
        "# Create a scatter plot with a regression line\n",
        "sns.regplot(x=df.select(\"ArrDelay\").toPandas(), y=df.select(\"DepDelay\").toPandas(), scatter_kws={\"s\": 5}, line_kws={\"color\": \"red\"}, label=\"Regression line\")\n",
        "\n",
        "\n",
        "# Set plot title and axis labels\n",
        "plt.title(\"ArrDelay vs. DepDelay \")\n",
        "plt.xlabel(\" ArrDelay (minutes)\")\n",
        "plt.ylabel(\" DepDelay (minutes)\")\n",
        "\n",
        "# Show the legend with the regression data\n",
        "plt.legend(title=\"Regression data\", loc=\"lower right\")\n",
        "\n",
        "# Show the plot\n",
        "plt.show()"
      ]
    },
    {
      "cell_type": "code",
      "execution_count": null,
      "metadata": {
        "colab": {
          "base_uri": "https://localhost:8080/"
        },
        "id": "6EsqPJpYcgi9",
        "outputId": "34549477-e944-49dd-a292-22e39296bddb"
      },
      "outputs": [
        {
          "output_type": "stream",
          "name": "stdout",
          "text": [
            "+--------------------+------------------+------------------+\n",
            "|             Airline|     avg(DepDelay)|     avg(ArrDelay)|\n",
            "+--------------------+------------------+------------------+\n",
            "|GoJet Airlines, L...|15.600120713936711|11.959560831201678|\n",
            "|   Endeavor Air Inc.| 9.310095075162666|3.9857387256001795|\n",
            "|       Allegiant Air|18.317819438397912|19.667637135393992|\n",
            "|SkyWest Airlines ...|11.014648133990613| 5.821999196927454|\n",
            "|Air Wisconsin Air...|7.6387344913151365|1.7502977667493798|\n",
            "|Frontier Airlines...|19.491421837633006|16.688632923969177|\n",
            "|Southwest Airline...|14.204219011510743|  6.98328107388052|\n",
            "|     JetBlue Airways| 24.77403327954692| 18.95415611666337|\n",
            "|Commutair Aka Cha...| 11.68749295647666| 7.720017129848761|\n",
            "|Capital Cargo Int...| 5.881954303670471| 2.543131353285252|\n",
            "|           Envoy Air| 6.711816288356173|2.3144443412621554|\n",
            "|Hawaiian Airlines...| 6.557495498910263| 4.447858428882782|\n",
            "|Alaska Airlines Inc.| 5.759624739402363| 3.070434715465987|\n",
            "|Delta Air Lines Inc.|11.172592430591626|3.8383836411424017|\n",
            "|  Mesa Airlines Inc.|15.078058133718669| 8.387748013116212|\n",
            "|American Airlines...|14.328980770355255| 9.142862327680245|\n",
            "|   Republic Airlines|10.205406279531637|  6.77014973645777|\n",
            "|         Horizon Air| 5.796857244318182|4.1962357954545455|\n",
            "|United Air Lines ...|13.421963642975038| 6.453377612504226|\n",
            "|         Comair Inc.| 12.21202643431162| 8.944364310735628|\n",
            "+--------------------+------------------+------------------+\n",
            "only showing top 20 rows\n",
            "\n",
            "+------+---------------------+---------------------+\n",
            "|Origin|stddev_samp(DepDelay)|stddev_samp(ArrDelay)|\n",
            "+------+---------------------+---------------------+\n",
            "|   BGM|   134.17845204337715|   137.81486763161706|\n",
            "|   PSE|    82.27725959996965|    81.65663505701559|\n",
            "|   MSY|   49.668670315035534|    51.13511228753097|\n",
            "|   PPG|    307.7730603328801|    309.4117160031275|\n",
            "|   GEG|   51.266341073741565|    52.47751912277865|\n",
            "|   DRT|    47.41052975440695|    50.88952975809413|\n",
            "|   BUR|    32.67872379748733|   33.983915273668956|\n",
            "|   SNA|   40.656125214817614|    41.99130595633698|\n",
            "|   GRB|   59.486091438176246|    61.25429001184132|\n",
            "|   GTF|    69.09395139236878|    70.86693770702003|\n",
            "|   IDA|    79.71853050990272|    80.91539606967247|\n",
            "|   GRR|    68.68539386097017|     70.8025219000632|\n",
            "|   PVU|    40.66048061526623|    42.75428796800907|\n",
            "|   EUG|    66.34799617653795|    66.62329455157989|\n",
            "|   PSG|    48.27705932764232|    45.42078675095833|\n",
            "|   PVD|   60.183554688419925|    63.00010622377322|\n",
            "|   GSO|    47.54472652312008|    49.87117166771602|\n",
            "|   MYR|   54.847793679656284|   56.586569883017006|\n",
            "|   OAK|   30.444675285282077|   31.804784408923414|\n",
            "|   MSN|    61.26365593508981|    62.77796181463828|\n",
            "+------+---------------------+---------------------+\n",
            "only showing top 20 rows\n",
            "\n"
          ]
        }
      ],
      "source": [
        "#Create a pivot table to see the average arrival delay by airline.\n",
        "from pyspark.sql.functions import mean, stddev, col\n",
        "\n",
        "# Compute the average delay by airline\n",
        "df.groupBy(\"Airline\").agg(mean(\"DepDelay\"), mean(\"ArrDelay\")).show()\n",
        "\n",
        "# Compute the standard deviation of delay by airport\n",
        "df.groupBy(\"Origin\").agg(stddev(\"DepDelay\"), stddev(\"ArrDelay\")).show()"
      ]
    },
    {
      "cell_type": "code",
      "execution_count": null,
      "metadata": {
        "colab": {
          "base_uri": "https://localhost:8080/",
          "height": 472
        },
        "id": "N3Pc8B8ucmBe",
        "outputId": "d9b119b4-e693-406e-bddc-1dda1f14c2fa"
      },
      "outputs": [
        {
          "output_type": "display_data",
          "data": {
            "text/plain": [
              "<Figure size 640x480 with 1 Axes>"
            ],
            "image/png": "[encoded data removed]"
          },
          "metadata": {}
        }
      ],
      "source": [
        "#Plot a histogram of departure delay to see the distribution of delays\n",
        "import matplotlib.pyplot as plt\n",
        "import seaborn as sns\n",
        "\n",
        "# Select the \"DepDelay\" column and convert to Pandas\n",
        "dep_delay = df.select(\"DepDelay\").toPandas()\n",
        "\n",
        "# Plot the histogram using Seaborn\n",
        "sns.histplot(dep_delay, bins=50, kde=True)\n",
        "\n",
        "# Set plot title and axis labels\n",
        "plt.title(\"Distribution of Departure Delay\")\n",
        "plt.xlabel(\"Departure Delay (minutes)\")\n",
        "plt.ylabel(\"Frequency\")\n",
        "\n",
        "# Show the plot\n",
        "plt.show()"
      ]
    },
    {
      "cell_type": "code",
      "execution_count": null,
      "metadata": {
        "colab": {
          "base_uri": "https://localhost:8080/",
          "height": 472
        },
        "id": "poEfmTo8cs6I",
        "outputId": "6504a7ca-e6ef-431e-cf4a-01b563403aa1"
      },
      "outputs": [
        {
          "output_type": "display_data",
          "data": {
            "text/plain": [
              "<Figure size 640x480 with 1 Axes>"
            ],
            "image/png": "[encoded data removed]"
          },
          "metadata": {}
        }
      ],
      "source": [
        "################################  Problem #########################\n",
        "#Plot a bar chart to see the number of flights cancelled by airline.\n",
        "import seaborn as sns\n",
        "import matplotlib.pyplot as plt\n",
        "\n",
        "# Group by airline and count the number of cancelled flights\n",
        "cancelled_by_airline = df.filter(df.Cancelled == 1).groupBy(\"Airline\").count().orderBy(\"count\", ascending=False)\n",
        "\n",
        "# Convert to Pandas DataFrame\n",
        "cancelled_by_airline_pd = cancelled_by_airline.toPandas()\n",
        "\n",
        "# Plot the bar chart\n",
        "sns.barplot(x=\"Airline\", y=\"count\", data=cancelled_by_airline_pd)\n",
        "plt.title(\"Number of Cancelled Flights by Airline\")\n",
        "plt.xlabel(\"Airline\")\n",
        "plt.ylabel(\"Number of Cancelled Flights\")\n",
        "plt.show()"
      ]
    },
    {
      "cell_type": "code",
      "execution_count": null,
      "metadata": {
        "colab": {
          "base_uri": "https://localhost:8080/"
        },
        "id": "_kvl-vU_c3Sb",
        "outputId": "2c3268f6-0ccf-44c8-9a2a-209674c0ddee"
      },
      "outputs": [
        {
          "output_type": "stream",
          "name": "stdout",
          "text": [
            "+---------+------------------+\n",
            "|DayOfWeek|       AvgDepDelay|\n",
            "+---------+------------------+\n",
            "|        1|14.589002872384079|\n",
            "|        6|15.206506603235958|\n",
            "|        3| 8.951088801285907|\n",
            "|        5|13.123605198538263|\n",
            "|        4| 9.229339043409395|\n",
            "|        7|14.657349080874802|\n",
            "|        2|12.862896214001365|\n",
            "+---------+------------------+\n",
            "\n"
          ]
        }
      ],
      "source": [
        "#Create a pivot table to see the average departure delay by day of the week.\n",
        "from pyspark.sql.functions import avg, dayofweek\n",
        "\n",
        "# Group the data by day of the week and compute the average departure delay\n",
        "avg_dep_delay_by_dayofweek = df.groupBy(dayofweek(\"FlightDate\").alias(\"DayOfWeek\")) \\\n",
        "                               .agg(avg(\"DepDelay\").alias(\"AvgDepDelay\"))\n",
        "\n",
        "# Show the pivot table\n",
        "avg_dep_delay_by_dayofweek.show()"
      ]
    },
    {
      "cell_type": "code",
      "execution_count": null,
      "metadata": {
        "colab": {
          "base_uri": "https://localhost:8080/",
          "height": 449
        },
        "id": "DINTtKPGc_Fr",
        "outputId": "27542081-d33e-4b65-c3bf-85208427844c"
      },
      "outputs": [
        {
          "output_type": "display_data",
          "data": {
            "text/plain": [
              "<Figure size 640x480 with 1 Axes>"
            ],
            "image/png": "[encoded data removed]"
          },
          "metadata": {}
        }
      ],
      "source": [
        "#Plot a box plot of arrival delay by month to see if there are any seasonal trends.\n",
        "import seaborn as sns\n",
        "import matplotlib.pyplot as plt\n",
        "\n",
        "# Create a new column for the month\n",
        "from pyspark.sql.functions import month\n",
        "df = df.withColumn(\"month\", month(\"FlightDate\"))\n",
        "\n",
        "# Filter out cancelled and diverted flights\n",
        "df = df.filter((df.Cancelled == 0) & (df.Diverted == 0))\n",
        "\n",
        "# Select relevant columns\n",
        "cols = [\"month\", \"ArrDelay\"]\n",
        "\n",
        "# Convert to Pandas DataFrame\n",
        "pdf = df.select(cols).toPandas()\n",
        "\n",
        "# Plot boxplot\n",
        "sns.boxplot(x=\"month\", y=\"ArrDelay\", data=pdf)\n",
        "\n",
        "# Set axis labels\n",
        "plt.xlabel(\"Month\")\n",
        "plt.ylabel(\"Arrival Delay (min)\")\n",
        "\n",
        "# Show the plot\n",
        "plt.show()"
      ]
    },
    {
      "cell_type": "code",
      "execution_count": null,
      "metadata": {
        "colab": {
          "base_uri": "https://localhost:8080/",
          "height": 363
        },
        "id": "x_4K5-_mdLM5",
        "outputId": "ee97d603-1808-4fa0-fb26-357ec18a21ec"
      },
      "outputs": [
        {
          "output_type": "execute_result",
          "data": {
            "text/plain": [
              "   DepDelay  Distance  DayOfWeek  IndexUniqueCarrier  TimeSlot  Delayed\n",
              "0     -10.0     212.0          1                 2.0         2        0\n",
              "1      -4.0     295.0          1                 2.0         1        0\n",
              "2     -15.0     251.0          1                 2.0         3        0\n",
              "3      -5.0     376.0          1                 2.0         3        0\n",
              "4       0.0     251.0          1                 2.0         2        0\n",
              "5      -3.0     541.0          1                 2.0         2        0\n",
              "6      -3.0     127.0          1                 2.0         1        0\n",
              "7     -12.0     771.0          1                 2.0         2        0\n",
              "8     -10.0     190.0          1                 2.0         3        0\n",
              "9      -7.0     427.0          1                 2.0         2        0"
            ],
            "text/html": [
              "\n",
              "  <div id=\"df-5b98c2f2-76c8-4096-8c4c-918063887dee\" class=\"colab-df-container\">\n",
              "    <div>\n",
              "<style scoped>\n",
              "    .dataframe tbody tr th:only-of-type {\n",
              "        vertical-align: middle;\n",
              "    }\n",
              "\n",
              "    .dataframe tbody tr th {\n",
              "        vertical-align: top;\n",
              "    }\n",
              "\n",
              "    .dataframe thead th {\n",
              "        text-align: right;\n",
              "    }\n",
              "</style>\n",
              "<table border=\"1\" class=\"dataframe\">\n",
              "  <thead>\n",
              "    <tr style=\"text-align: right;\">\n",
              "      <th></th>\n",
              "      <th>DepDelay</th>\n",
              "      <th>Distance</th>\n",
              "      <th>DayOfWeek</th>\n",
              "      <th>IndexUniqueCarrier</th>\n",
              "      <th>TimeSlot</th>\n",
              "      <th>Delayed</th>\n",
              "    </tr>\n",
              "  </thead>\n",
              "  <tbody>\n",
              "    <tr>\n",
              "      <th>0</th>\n",
              "      <td>-10.0</td>\n",
              "      <td>212.0</td>\n",
              "      <td>1</td>\n",
              "      <td>2.0</td>\n",
              "      <td>2</td>\n",
              "      <td>0</td>\n",
              "    </tr>\n",
              "    <tr>\n",
              "      <th>1</th>\n",
              "      <td>-4.0</td>\n",
              "      <td>295.0</td>\n",
              "      <td>1</td>\n",
              "      <td>2.0</td>\n",
              "      <td>1</td>\n",
              "      <td>0</td>\n",
              "    </tr>\n",
              "    <tr>\n",
              "      <th>2</th>\n",
              "      <td>-15.0</td>\n",
              "      <td>251.0</td>\n",
              "      <td>1</td>\n",
              "      <td>2.0</td>\n",
              "      <td>3</td>\n",
              "      <td>0</td>\n",
              "    </tr>\n",
              "    <tr>\n",
              "      <th>3</th>\n",
              "      <td>-5.0</td>\n",
              "      <td>376.0</td>\n",
              "      <td>1</td>\n",
              "      <td>2.0</td>\n",
              "      <td>3</td>\n",
              "      <td>0</td>\n",
              "    </tr>\n",
              "    <tr>\n",
              "      <th>4</th>\n",
              "      <td>0.0</td>\n",
              "      <td>251.0</td>\n",
              "      <td>1</td>\n",
              "      <td>2.0</td>\n",
              "      <td>2</td>\n",
              "      <td>0</td>\n",
              "    </tr>\n",
              "    <tr>\n",
              "      <th>5</th>\n",
              "      <td>-3.0</td>\n",
              "      <td>541.0</td>\n",
              "      <td>1</td>\n",
              "      <td>2.0</td>\n",
              "      <td>2</td>\n",
              "      <td>0</td>\n",
              "    </tr>\n",
              "    <tr>\n",
              "      <th>6</th>\n",
              "      <td>-3.0</td>\n",
              "      <td>127.0</td>\n",
              "      <td>1</td>\n",
              "      <td>2.0</td>\n",
              "      <td>1</td>\n",
              "      <td>0</td>\n",
              "    </tr>\n",
              "    <tr>\n",
              "      <th>7</th>\n",
              "      <td>-12.0</td>\n",
              "      <td>771.0</td>\n",
              "      <td>1</td>\n",
              "      <td>2.0</td>\n",
              "      <td>2</td>\n",
              "      <td>0</td>\n",
              "    </tr>\n",
              "    <tr>\n",
              "      <th>8</th>\n",
              "      <td>-10.0</td>\n",
              "      <td>190.0</td>\n",
              "      <td>1</td>\n",
              "      <td>2.0</td>\n",
              "      <td>3</td>\n",
              "      <td>0</td>\n",
              "    </tr>\n",
              "    <tr>\n",
              "      <th>9</th>\n",
              "      <td>-7.0</td>\n",
              "      <td>427.0</td>\n",
              "      <td>1</td>\n",
              "      <td>2.0</td>\n",
              "      <td>2</td>\n",
              "      <td>0</td>\n",
              "    </tr>\n",
              "  </tbody>\n",
              "</table>\n",
              "</div>\n",
              "    <div class=\"colab-df-buttons\">\n",
              "\n",
              "  <div class=\"colab-df-container\">\n",
              "    <button class=\"colab-df-convert\" onclick=\"convertToInteractive('df-5b98c2f2-76c8-4096-8c4c-918063887dee')\"\n",
              "            title=\"Convert this dataframe to an interactive table.\"\n",
              "            style=\"display:none;\">\n",
              "\n",
              "  <svg xmlns=\"http://www.w3.org/2000/svg\" height=\"24px\" viewBox=\"0 -960 960 960\">\n",
              "    <path d=\"M120-120v-720h720v720H120Zm60-500h600v-160H180v160Zm220 220h160v-160H400v160Zm0 220h160v-160H400v160ZM180-400h160v-160H180v160Zm440 0h160v-160H620v160ZM180-180h160v-160H180v160Zm440 0h160v-160H620v160Z\"/>\n",
              "  </svg>\n",
              "    </button>\n",
              "\n",
              "  <style>\n",
              "    .colab-df-container {\n",
              "      display:flex;\n",
              "      gap: 12px;\n",
              "    }\n",
              "\n",
              "    .colab-df-convert {\n",
              "      background-color: #E8F0FE;\n",
              "      border: none;\n",
              "      border-radius: 50%;\n",
              "      cursor: pointer;\n",
              "      display: none;\n",
              "      fill: #1967D2;\n",
              "      height: 32px;\n",
              "      padding: 0 0 0 0;\n",
              "      width: 32px;\n",
              "    }\n",
              "\n",
              "    .colab-df-convert:hover {\n",
              "      background-color: #E2EBFA;\n",
              "      box-shadow: 0px 1px 2px rgba(60, 64, 67, 0.3), 0px 1px 3px 1px rgba(60, 64, 67, 0.15);\n",
              "      fill: #174EA6;\n",
              "    }\n",
              "\n",
              "    .colab-df-buttons div {\n",
              "      margin-bottom: 4px;\n",
              "    }\n",
              "\n",
              "    [theme=dark] .colab-df-convert {\n",
              "      background-color: #3B4455;\n",
              "      fill: #D2E3FC;\n",
              "    }\n",
              "\n",
              "    [theme=dark] .colab-df-convert:hover {\n",
              "      background-color: #434B5C;\n",
              "      box-shadow: 0px 1px 3px 1px rgba(0, 0, 0, 0.15);\n",
              "      filter: drop-shadow(0px 1px 2px rgba(0, 0, 0, 0.3));\n",
              "      fill: #FFFFFF;\n",
              "    }\n",
              "  </style>\n",
              "\n",
              "    <script>\n",
              "      const buttonEl =\n",
              "        document.querySelector('#df-5b98c2f2-76c8-4096-8c4c-918063887dee button.colab-df-convert');\n",
              "      buttonEl.style.display =\n",
              "        google.colab.kernel.accessAllowed ? 'block' : 'none';\n",
              "\n",
              "      async function convertToInteractive(key) {\n",
              "        const element = document.querySelector('#df-5b98c2f2-76c8-4096-8c4c-918063887dee');\n",
              "        const dataTable =\n",
              "          await google.colab.kernel.invokeFunction('convertToInteractive',\n",
              "                                                    [key], {});\n",
              "        if (!dataTable) return;\n",
              "\n",
              "        const docLinkHtml = 'Like what you see? Visit the ' +\n",
              "          '<a target=\"_blank\" href=https://colab.research.google.com/notebooks/data_table.ipynb>data table notebook</a>'\n",
              "          + ' to learn more about interactive tables.';\n",
              "        element.innerHTML = '';\n",
              "        dataTable['output_type'] = 'display_data';\n",
              "        await google.colab.output.renderOutput(dataTable, element);\n",
              "        const docLink = document.createElement('div');\n",
              "        docLink.innerHTML = docLinkHtml;\n",
              "        element.appendChild(docLink);\n",
              "      }\n",
              "    </script>\n",
              "  </div>\n",
              "\n",
              "\n",
              "<div id=\"df-09a1462c-6867-40e0-aa09-b5051a62f27d\">\n",
              "  <button class=\"colab-df-quickchart\" onclick=\"quickchart('df-09a1462c-6867-40e0-aa09-b5051a62f27d')\"\n",
              "            title=\"Suggest charts\"\n",
              "            style=\"display:none;\">\n",
              "\n",
              "<svg xmlns=\"http://www.w3.org/2000/svg\" height=\"24px\"viewBox=\"0 0 24 24\"\n",
              "     width=\"24px\">\n",
              "    <g>\n",
              "        <path d=\"M19 3H5c-1.1 0-2 .9-2 2v14c0 1.1.9 2 2 2h14c1.1 0 2-.9 2-2V5c0-1.1-.9-2-2-2zM9 17H7v-7h2v7zm4 0h-2V7h2v10zm4 0h-2v-4h2v4z\"/>\n",
              "    </g>\n",
              "</svg>\n",
              "  </button>\n",
              "\n",
              "<style>\n",
              "  .colab-df-quickchart {\n",
              "      --bg-color: #E8F0FE;\n",
              "      --fill-color: #1967D2;\n",
              "      --hover-bg-color: #E2EBFA;\n",
              "      --hover-fill-color: #174EA6;\n",
              "      --disabled-fill-color: #AAA;\n",
              "      --disabled-bg-color: #DDD;\n",
              "  }\n",
              "\n",
              "  [theme=dark] .colab-df-quickchart {\n",
              "      --bg-color: #3B4455;\n",
              "      --fill-color: #D2E3FC;\n",
              "      --hover-bg-color: #434B5C;\n",
              "      --hover-fill-color: #FFFFFF;\n",
              "      --disabled-bg-color: #3B4455;\n",
              "      --disabled-fill-color: #666;\n",
              "  }\n",
              "\n",
              "  .colab-df-quickchart {\n",
              "    background-color: var(--bg-color);\n",
              "    border: none;\n",
              "    border-radius: 50%;\n",
              "    cursor: pointer;\n",
              "    display: none;\n",
              "    fill: var(--fill-color);\n",
              "    height: 32px;\n",
              "    padding: 0;\n",
              "    width: 32px;\n",
              "  }\n",
              "\n",
              "  .colab-df-quickchart:hover {\n",
              "    background-color: var(--hover-bg-color);\n",
              "    box-shadow: 0 1px 2px rgba(60, 64, 67, 0.3), 0 1px 3px 1px rgba(60, 64, 67, 0.15);\n",
              "    fill: var(--button-hover-fill-color);\n",
              "  }\n",
              "\n",
              "  .colab-df-quickchart-complete:disabled,\n",
              "  .colab-df-quickchart-complete:disabled:hover {\n",
              "    background-color: var(--disabled-bg-color);\n",
              "    fill: var(--disabled-fill-color);\n",
              "    box-shadow: none;\n",
              "  }\n",
              "\n",
              "  .colab-df-spinner {\n",
              "    border: 2px solid var(--fill-color);\n",
              "    border-color: transparent;\n",
              "    border-bottom-color: var(--fill-color);\n",
              "    animation:\n",
              "      spin 1s steps(1) infinite;\n",
              "  }\n",
              "\n",
              "  @keyframes spin {\n",
              "    0% {\n",
              "      border-color: transparent;\n",
              "      border-bottom-color: var(--fill-color);\n",
              "      border-left-color: var(--fill-color);\n",
              "    }\n",
              "    20% {\n",
              "      border-color: transparent;\n",
              "      border-left-color: var(--fill-color);\n",
              "      border-top-color: var(--fill-color);\n",
              "    }\n",
              "    30% {\n",
              "      border-color: transparent;\n",
              "      border-left-color: var(--fill-color);\n",
              "      border-top-color: var(--fill-color);\n",
              "      border-right-color: var(--fill-color);\n",
              "    }\n",
              "    40% {\n",
              "      border-color: transparent;\n",
              "      border-right-color: var(--fill-color);\n",
              "      border-top-color: var(--fill-color);\n",
              "    }\n",
              "    60% {\n",
              "      border-color: transparent;\n",
              "      border-right-color: var(--fill-color);\n",
              "    }\n",
              "    80% {\n",
              "      border-color: transparent;\n",
              "      border-right-color: var(--fill-color);\n",
              "      border-bottom-color: var(--fill-color);\n",
              "    }\n",
              "    90% {\n",
              "      border-color: transparent;\n",
              "      border-bottom-color: var(--fill-color);\n",
              "    }\n",
              "  }\n",
              "</style>\n",
              "\n",
              "  <script>\n",
              "    async function quickchart(key) {\n",
              "      const quickchartButtonEl =\n",
              "        document.querySelector('#' + key + ' button');\n",
              "      quickchartButtonEl.disabled = true;  // To prevent multiple clicks.\n",
              "      quickchartButtonEl.classList.add('colab-df-spinner');\n",
              "      try {\n",
              "        const charts = await google.colab.kernel.invokeFunction(\n",
              "            'suggestCharts', [key], {});\n",
              "      } catch (error) {\n",
              "        console.error('Error during call to suggestCharts:', error);\n",
              "      }\n",
              "      quickchartButtonEl.classList.remove('colab-df-spinner');\n",
              "      quickchartButtonEl.classList.add('colab-df-quickchart-complete');\n",
              "    }\n",
              "    (() => {\n",
              "      let quickchartButtonEl =\n",
              "        document.querySelector('#df-09a1462c-6867-40e0-aa09-b5051a62f27d button');\n",
              "      quickchartButtonEl.style.display =\n",
              "        google.colab.kernel.accessAllowed ? 'block' : 'none';\n",
              "    })();\n",
              "  </script>\n",
              "</div>\n",
              "\n",
              "    </div>\n",
              "  </div>\n"
            ],
            "application/vnd.google.colaboratory.intrinsic+json": {
              "type": "dataframe",
              "summary": "{\n  \"name\": \"bd3\",\n  \"rows\": 10,\n  \"fields\": [\n    {\n      \"column\": \"DepDelay\",\n      \"properties\": {\n        \"dtype\": \"number\",\n        \"std\": 4.72463990397387,\n        \"min\": -15.0,\n        \"max\": 0.0,\n        \"num_unique_values\": 8,\n        \"samples\": [\n          -4.0,\n          -3.0,\n          -10.0\n        ],\n        \"semantic_type\": \"\",\n        \"description\": \"\"\n      }\n    },\n    {\n      \"column\": \"Distance\",\n      \"properties\": {\n        \"dtype\": \"number\",\n        \"std\": 193.4996124027126,\n        \"min\": 127.0,\n        \"max\": 771.0,\n        \"num_unique_values\": 9,\n        \"samples\": [\n          190.0,\n          295.0,\n          127.0\n        ],\n        \"semantic_type\": \"\",\n        \"description\": \"\"\n      }\n    },\n    {\n      \"column\": \"DayOfWeek\",\n      \"properties\": {\n        \"dtype\": \"int32\",\n        \"num_unique_values\": 1,\n        \"samples\": [\n          1\n        ],\n        \"semantic_type\": \"\",\n        \"description\": \"\"\n      }\n    },\n    {\n      \"column\": \"IndexUniqueCarrier\",\n      \"properties\": {\n        \"dtype\": \"number\",\n        \"std\": 0.0,\n        \"min\": 2.0,\n        \"max\": 2.0,\n        \"num_unique_values\": 1,\n        \"samples\": [\n          2.0\n        ],\n        \"semantic_type\": \"\",\n        \"description\": \"\"\n      }\n    },\n    {\n      \"column\": \"TimeSlot\",\n      \"properties\": {\n        \"dtype\": \"int32\",\n        \"num_unique_values\": 3,\n        \"samples\": [\n          2\n        ],\n        \"semantic_type\": \"\",\n        \"description\": \"\"\n      }\n    },\n    {\n      \"column\": \"Delayed\",\n      \"properties\": {\n        \"dtype\": \"int32\",\n        \"num_unique_values\": 1,\n        \"samples\": [\n          0\n        ],\n        \"semantic_type\": \"\",\n        \"description\": \"\"\n      }\n    }\n  ]\n}"
            }
          },
          "metadata": {},
          "execution_count": 23
        }
      ],
      "source": [
        "bd3=bd2.select('DepDelay',\n",
        "             'Distance',\n",
        "             'DayOfWeek',\n",
        "             'IndexUniqueCarrier',\n",
        "             'TimeSlot',\n",
        "             'Delayed')\n",
        "\n",
        "bd3.limit(10).toPandas()"
      ]
    },
    {
      "cell_type": "code",
      "execution_count": null,
      "metadata": {
        "id": "sTRCUKU6dP-k"
      },
      "outputs": [],
      "source": [
        "from pyspark.ml.feature import VectorAssembler, StringIndexer\n",
        "from pyspark.sql.functions import col\n",
        "\n",
        "# bd3_40000 = bd3.limit(40000)\n",
        "\n",
        "a1 = VectorAssembler(inputCols=['DepDelay', 'Distance',  'DayOfWeek',  'IndexUniqueCarrier',  'TimeSlot'],  outputCol='features')\n",
        "bd4 = a1.transform(bd3).select(col(\"Delayed\").cast('double').alias(\"label\"),'features')\n",
        "stringIndexer = StringIndexer(inputCol = 'label', outputCol = 'label2', handleInvalid=\"skip\")\n",
        "sI = stringIndexer.fit(bd4)\n",
        "bd4 = sI.transform(bd4)\n",
        "bd4 = bd4.select('label2','features')"
      ]
    },
    {
      "cell_type": "code",
      "execution_count": null,
      "metadata": {
        "colab": {
          "base_uri": "https://localhost:8080/"
        },
        "id": "DKgP_WP2dVR8",
        "outputId": "caf7e8b9-3a6c-4e58-a0a2-129aeaaaaa22"
      },
      "outputs": [
        {
          "name": "stdout",
          "output_type": "stream",
          "text": [
            "Train: 3977\n",
            "Test: 1741\n"
          ]
        }
      ],
      "source": [
        "#Splitting data in train & test\n",
        "(bd_train, bd_test) = bd4.randomSplit([0.7, 0.3],seed=123)\n",
        "print('Train:',bd_train.count())\n",
        "print('Test:',bd_test.count())"
      ]
    },
    {
      "cell_type": "code",
      "execution_count": null,
      "metadata": {
        "colab": {
          "base_uri": "https://localhost:8080/"
        },
        "id": "mgh2KU2AeHtx",
        "outputId": "258ff42b-dac2-47fc-c8b9-b4eca506a8b0"
      },
      "outputs": [
        {
          "name": "stdout",
          "output_type": "stream",
          "text": [
            "Time to train model: 7.182 seconds\n"
          ]
        }
      ],
      "source": [
        "from pyspark.ml.classification import RandomForestClassifier\n",
        "from time import time\n",
        "\n",
        "start_time = time()\n",
        "\n",
        "# Train a RandomForest model\n",
        "rf = RandomForestClassifier(labelCol=\"label2\",\n",
        "     featuresCol=\"features\",\n",
        "     numTrees=500,\n",
        "     maxDepth=3,\n",
        "     seed = 1)\n",
        "\n",
        "model = rf.fit(bd_train)\n",
        "\n",
        "end_time = time()\n",
        "elapsed_time = end_time - start_time\n",
        "print(\"Time to train model: %.3f seconds\" % elapsed_time)"
      ]
    },
    {
      "cell_type": "code",
      "execution_count": null,
      "metadata": {
        "colab": {
          "base_uri": "https://localhost:8080/"
        },
        "id": "LitBIH2KeLYz",
        "outputId": "a3c8438a-1b72-4724-d356-7a03fa3eee21"
      },
      "outputs": [
        {
          "name": "stdout",
          "output_type": "stream",
          "text": [
            "Confusion matrix\n",
            "+------+----------+-----+\n",
            "|label2|prediction|count|\n",
            "+------+----------+-----+\n",
            "|   0.0|       0.0| 1148|\n",
            "|   0.0|       1.0|   26|\n",
            "|   1.0|       0.0|  119|\n",
            "|   1.0|       1.0|  448|\n",
            "+------+----------+-----+\n",
            "\n",
            "Metrics:\n",
            "Prevalence= 0.3256748994830557\n",
            "Sensitivity= 0.7901234567901234\n",
            "Especificity= 0.9778534923339012\n",
            "Recall= 0.7901234567901234\n",
            "Precision= 0.9451476793248945\n",
            "Accuracy= 0.9167145318782309\n"
          ]
        }
      ],
      "source": [
        "pred = model.transform(bd_test)\n",
        "\n",
        "cm = pred.groupBy('label2','prediction').count().sort('label2','prediction')\n",
        "print(\"Confusion matrix\")\n",
        "cm.show()\n",
        "\n",
        "TN = cm.filter((cm.label2 == 0) & (cm.prediction == 0)).collect()[0][2] #True negative\n",
        "FP = cm.filter((cm.label2 == 0) & (cm.prediction == 1)).collect()[0][2] #False positive\n",
        "FN = cm.filter((cm.label2 == 1) & (cm.prediction == 0)).collect()[0][2] #Flase negative\n",
        "TP = cm.filter((cm.label2 == 1) & (cm.prediction == 1)).collect()[0][2] #True positive\n",
        "\n",
        "N=TN+FP+TP+FN\n",
        "\n",
        "Prev = (TP + FN) / N\n",
        "Sens = TPR = Recall = TP / (TP + FN)\n",
        "Esp  = TN / (TN + FP) #= (1 - FPR)\n",
        "Precision = PPV = TP / (TP + FP)\n",
        "Acc = (TP+TN) / N\n",
        "\n",
        "\n",
        "print(\"Metrics:\")\n",
        "print('Prevalence=',Prev)\n",
        "print('Sensitivity=',Sens)\n",
        "print('Especificity=',Esp)\n",
        "print('Recall=',Recall)\n",
        "print('Precision=',Precision)\n",
        "print('Accuracy=',Acc)"
      ]
    },
    {
      "cell_type": "code",
      "execution_count": null,
      "metadata": {
        "id": "iNmKEvXzoK5f"
      },
      "outputs": [],
      "source": [
        "from pyspark.sql.functions import udf\n",
        "from pyspark.sql.types import FloatType\n",
        "\n",
        "secondelement=udf(lambda v:float(v[1]),FloatType())\n",
        "pred2=pred.withColumn('probs',secondelement('probability'))\n",
        "\n",
        "import matplotlib.pyplot as plt\n",
        "from sklearn.metrics import roc_curve\n",
        "import seaborn as sns\n",
        "\n",
        "pd5 = pred2.sample(False,0.1).select('label2','probs').toPandas()"
      ]
    },
    {
      "cell_type": "code",
      "execution_count": null,
      "metadata": {
        "colab": {
          "base_uri": "https://localhost:8080/",
          "height": 472
        },
        "id": "1yp3JwbYoNTC",
        "outputId": "a37b3360-df32-47a1-b1a3-3a8d70d97978"
      },
      "outputs": [
        {
          "data": {
            "image/png": "[encoded data removed]",
            "text/plain": [
              "<Figure size 640x480 with 1 Axes>"
            ]
          },
          "metadata": {},
          "output_type": "display_data"
        }
      ],
      "source": [
        "fpr, tpr, _ = roc_curve( pd5['label2'], pd5['probs'])\n",
        "\n",
        "plt.plot(fpr, tpr)\n",
        "plt.plot([0, 1], [0, 1], color='navy', linestyle='--')\n",
        "plt.xlabel('1 - Esp (FPR)')\n",
        "plt.ylabel('Sens (TPR)')\n",
        "plt.title('Curva ROC')\n",
        "plt.show()"
      ]
    },
    {
      "cell_type": "code",
      "execution_count": null,
      "metadata": {
        "colab": {
          "base_uri": "https://localhost:8080/",
          "height": 74
        },
        "id": "J0f4BKZhoSZ9",
        "outputId": "248247d4-6fa6-464d-f2ac-9cfe7559011e"
      },
      "outputs": [
        {
          "data": {
            "text/html": [
              "<style>#sk-container-id-1 {color: black;}#sk-container-id-1 pre{padding: 0;}#sk-container-id-1 div.sk-toggleable {background-color: white;}#sk-container-id-1 label.sk-toggleable__label {cursor: pointer;display: block;width: 100%;margin-bottom: 0;padding: 0.3em;box-sizing: border-box;text-align: center;}#sk-container-id-1 label.sk-toggleable__label-arrow:before {content: \"▸\";float: left;margin-right: 0.25em;color: #696969;}#sk-container-id-1 label.sk-toggleable__label-arrow:hover:before {color: black;}#sk-container-id-1 div.sk-estimator:hover label.sk-toggleable__label-arrow:before {color: black;}#sk-container-id-1 div.sk-toggleable__content {max-height: 0;max-width: 0;overflow: hidden;text-align: left;background-color: #f0f8ff;}#sk-container-id-1 div.sk-toggleable__content pre {margin: 0.2em;color: black;border-radius: 0.25em;background-color: #f0f8ff;}#sk-container-id-1 input.sk-toggleable__control:checked~div.sk-toggleable__content {max-height: 200px;max-width: 100%;overflow: auto;}#sk-container-id-1 input.sk-toggleable__control:checked~label.sk-toggleable__label-arrow:before {content: \"▾\";}#sk-container-id-1 div.sk-estimator input.sk-toggleable__control:checked~label.sk-toggleable__label {background-color: #d4ebff;}#sk-container-id-1 div.sk-label input.sk-toggleable__control:checked~label.sk-toggleable__label {background-color: #d4ebff;}#sk-container-id-1 input.sk-hidden--visually {border: 0;clip: rect(1px 1px 1px 1px);clip: rect(1px, 1px, 1px, 1px);height: 1px;margin: -1px;overflow: hidden;padding: 0;position: absolute;width: 1px;}#sk-container-id-1 div.sk-estimator {font-family: monospace;background-color: #f0f8ff;border: 1px dotted black;border-radius: 0.25em;box-sizing: border-box;margin-bottom: 0.5em;}#sk-container-id-1 div.sk-estimator:hover {background-color: #d4ebff;}#sk-container-id-1 div.sk-parallel-item::after {content: \"\";width: 100%;border-bottom: 1px solid gray;flex-grow: 1;}#sk-container-id-1 div.sk-label:hover label.sk-toggleable__label {background-color: #d4ebff;}#sk-container-id-1 div.sk-serial::before {content: \"\";position: absolute;border-left: 1px solid gray;box-sizing: border-box;top: 0;bottom: 0;left: 50%;z-index: 0;}#sk-container-id-1 div.sk-serial {display: flex;flex-direction: column;align-items: center;background-color: white;padding-right: 0.2em;padding-left: 0.2em;position: relative;}#sk-container-id-1 div.sk-item {position: relative;z-index: 1;}#sk-container-id-1 div.sk-parallel {display: flex;align-items: stretch;justify-content: center;background-color: white;position: relative;}#sk-container-id-1 div.sk-item::before, #sk-container-id-1 div.sk-parallel-item::before {content: \"\";position: absolute;border-left: 1px solid gray;box-sizing: border-box;top: 0;bottom: 0;left: 50%;z-index: -1;}#sk-container-id-1 div.sk-parallel-item {display: flex;flex-direction: column;z-index: 1;position: relative;background-color: white;}#sk-container-id-1 div.sk-parallel-item:first-child::after {align-self: flex-end;width: 50%;}#sk-container-id-1 div.sk-parallel-item:last-child::after {align-self: flex-start;width: 50%;}#sk-container-id-1 div.sk-parallel-item:only-child::after {width: 0;}#sk-container-id-1 div.sk-dashed-wrapped {border: 1px dashed gray;margin: 0 0.4em 0.5em 0.4em;box-sizing: border-box;padding-bottom: 0.4em;background-color: white;}#sk-container-id-1 div.sk-label label {font-family: monospace;font-weight: bold;display: inline-block;line-height: 1.2em;}#sk-container-id-1 div.sk-label-container {text-align: center;}#sk-container-id-1 div.sk-container {/* jupyter's `normalize.less` sets `[hidden] { display: none; }` but bootstrap.min.css set `[hidden] { display: none !important; }` so we also need the `!important` here to be able to override the default hidden behavior on the sphinx rendered scikit-learn.org. See: https://github.com/scikit-learn/scikit-learn/issues/21755 */display: inline-block !important;position: relative;}#sk-container-id-1 div.sk-text-repr-fallback {display: none;}</style><div id=\"sk-container-id-1\" class=\"sk-top-container\"><div class=\"sk-text-repr-fallback\"><pre>RandomForestClassifier(max_depth=3, n_estimators=500, random_state=1)</pre><b>In a Jupyter environment, please rerun this cell to show the HTML representation or trust the notebook. <br />On GitHub, the HTML representation is unable to render, please try loading this page with nbviewer.org.</b></div><div class=\"sk-container\" hidden><div class=\"sk-item\"><div class=\"sk-estimator sk-toggleable\"><input class=\"sk-toggleable__control sk-hidden--visually\" id=\"sk-estimator-id-1\" type=\"checkbox\" checked><label for=\"sk-estimator-id-1\" class=\"sk-toggleable__label sk-toggleable__label-arrow\">RandomForestClassifier</label><div class=\"sk-toggleable__content\"><pre>RandomForestClassifier(max_depth=3, n_estimators=500, random_state=1)</pre></div></div></div></div></div>"
            ],
            "text/plain": [
              "RandomForestClassifier(max_depth=3, n_estimators=500, random_state=1)"
            ]
          },
          "execution_count": 108,
          "metadata": {},
          "output_type": "execute_result"
        }
      ],
      "source": [
        "import pandas as pd\n",
        "import numpy as np\n",
        "from sklearn.model_selection import train_test_split\n",
        "from sklearn.ensemble import RandomForestClassifier\n",
        "from sklearn.metrics import confusion_matrix, precision_score, recall_score, f1_score\n",
        "import time\n",
        "\n",
        "#convert pySpark Dataframe into Pandas\n",
        "\n",
        "bd_pd = bd4.toPandas()\n",
        "# Load the data, handling potential errors\n",
        "bd_pd = pd.read_csv('Combined_Flights_2022.csv', on_bad_lines='skip', engine='python') # Use the Python engine for more robust parsing\n",
        "# bd = bd[:40000]\n",
        "# Remove cancelled and diverted flights\n",
        "bd = bd[(bd.Cancelled == 0) & (bd.Diverted == 0)]\n",
        "\n",
        "# Create a new variable 'Delayed' for flights with arrival delay >= 15 min\n",
        "bd_pd['Delayed'] = np.where(bd_pd['ArrDelay'] >= 15, 1, 0)\n",
        "\n",
        "# Create a new variable 'TimeSlot' by departure time\n",
        "def time_slot(x):\n",
        "    if x <= 800:\n",
        "        return 1\n",
        "    elif x <= 1200:\n",
        "        return 2\n",
        "    elif x <= 1600:\n",
        "        return 3\n",
        "    elif x <= 2100:\n",
        "        return 4\n",
        "    else:\n",
        "        return 1\n",
        "\n",
        "bd_pd['TimeSlot'] = bd_pd['CRSDepTime'].apply(time_slot)\n",
        "\n",
        "# Convert 'Marketing_Airline_Network' to numeric using label encoding\n",
        "bd_pd['IndexUniqueCarrier'] = pd.factorize(bd_pd['Marketing_Airline_Network'])[0]\n",
        "\n",
        "\n",
        "# Select features and target variable\n",
        "X = bd_pd[['DepDelay', 'Distance', 'DayOfWeek', 'IndexUniqueCarrier', 'TimeSlot']]\n",
        "y = bd_pd['Delayed']\n",
        "\n",
        "# Handle missing values (NaN) - Choose one of the methods below\n",
        "\n",
        "# 1. Fill NaN with the mean of each column\n",
        "X = X.fillna(X.mean())\n",
        "\n",
        "# 2. Drop rows with any NaN values\n",
        "# X.dropna(inplace=True)\n",
        "# y = y[X.index] # Adjust y to match the dropped rows in X\n",
        "\n",
        "# Split the data into training and testing sets\n",
        "X_train, X_test, y_train, y_test = train_test_split(X, y, test_size=0.3, random_state=123)\n",
        "\n",
        "\n",
        "start_time = time.time()\n",
        "# Train a random forest classifier\n",
        "rf = RandomForestClassifier(n_estimators=500, max_depth=3, random_state=1)\n",
        "rf.fit(X_train, y_train)\n",
        "\n"
      ]
    },
    {
      "cell_type": "code",
      "execution_count": null,
      "metadata": {
        "colab": {
          "base_uri": "https://localhost:8080/"
        },
        "id": "gzlRHCe_rAVf",
        "outputId": "a0d09c95-094d-4aad-caf3-4f4579ed0e10"
      },
      "outputs": [
        {
          "name": "stdout",
          "output_type": "stream",
          "text": [
            "Coefficients: [-0.07540611525997314,1.0899742867872073,-0.0015758026351938932]\n",
            "+-----------------+--------+-------------------+\n",
            "|         features|ArrDelay|         prediction|\n",
            "+-----------------+--------+-------------------+\n",
            "|[0.0,-19.0,368.0]|   -28.0|-26.230820065366398|\n",
            "|[0.0,-17.0,240.0]|   -11.0|-23.849168754487167|\n",
            "|[0.0,-14.0,299.0]|   -19.0|-20.672218249601986|\n",
            "|[0.0,-14.0,397.0]|   -28.0|-20.826646907850986|\n",
            "|[0.0,-14.0,398.0]|    -4.0| -20.82822271048618|\n",
            "+-----------------+--------+-------------------+\n",
            "only showing top 5 rows\n",
            "\n"
          ]
        }
      ],
      "source": [
        "from pyspark.ml.feature import VectorAssembler\n",
        "from pyspark.ml.regression import LinearRegression\n",
        "import time\n",
        "\n",
        "# Select the necessary columns for linear regression\n",
        "cols = [\"DepDelayMinutes\", \"DepDelay\", \"Distance\", \"ArrDelay\"]\n",
        "\n",
        "# Create a VectorAssembler to combine the selected columns into a single feature column\n",
        "assembler = VectorAssembler(inputCols=cols[:-1], outputCol=\"features\")\n",
        "\n",
        "# Apply the VectorAssembler to the data\n",
        "data = assembler.transform(df).select(\"features\", \"ArrDelay\")\n",
        "\n",
        "# Split the data into training and test sets\n",
        "train_data, test_data = data.randomSplit([0.8, 0.2], seed=1234)\n",
        "\n",
        "# Create a LinearRegression model\n",
        "lr = LinearRegression(labelCol=\"ArrDelay\")\n",
        "\n",
        "start_time = time.time()\n",
        "\n",
        "# Fit the model to the training data\n",
        "lr_model = lr.fit(train_data)\n",
        "\n",
        "# Print the model coefficients\n",
        "print(\"Coefficients: \" + str(lr_model.coefficients))\n",
        "\n",
        "# Make predictions on the test data\n",
        "predictions = lr_model.transform(test_data)\n",
        "\n",
        "\n",
        "end_time = time.time()\n",
        "\n",
        "# Show the first 5 predictions\n",
        "predictions.show(5)"
      ]
    },
    {
      "cell_type": "code",
      "execution_count": null,
      "metadata": {
        "colab": {
          "base_uri": "https://localhost:8080/",
          "height": 484
        },
        "id": "uUy1zEaR0bxq",
        "outputId": "c2c6d2af-bce2-4d9c-cfe4-b911943985e4"
      },
      "outputs": [
        {
          "name": "stdout",
          "output_type": "stream",
          "text": [
            "RMSE: 13.953520\n",
            "r2: 0.924387\n"
          ]
        },
        {
          "data": {
            "image/png": "[encoded data removed]",
            "text/plain": [
              "<Figure size 640x480 with 1 Axes>"
            ]
          },
          "metadata": {},
          "output_type": "display_data"
        }
      ],
      "source": [
        "# Print the regression metrics\n",
        "trainingSummary = lr_model.summary\n",
        "print(\"RMSE: %f\" % trainingSummary.rootMeanSquaredError)\n",
        "print(\"r2: %f\" % trainingSummary.r2)\n",
        "targetCol = \"ArrDelay\"\n",
        "\n",
        "# Plot the predicted values versus the actual values\n",
        "actual = predictions.select(targetCol).toPandas()\n",
        "predicted = predictions.select(\"prediction\").toPandas()\n",
        "\n",
        "plt.scatter(actual, predicted, s=5)\n",
        "plt.plot(actual, actual, color='red')\n",
        "plt.xlabel(\"Actual values\")\n",
        "plt.ylabel(\"Predicted values\")\n",
        "plt.show()"
      ]
    },
    {
      "cell_type": "code",
      "execution_count": null,
      "metadata": {
        "colab": {
          "base_uri": "https://localhost:8080/"
        },
        "id": "3S_2rgbC0lDO",
        "outputId": "71d3cd9b-0a7e-4056-c235-002782f77a20"
      },
      "outputs": [
        {
          "name": "stdout",
          "output_type": "stream",
          "text": [
            "Time taken to build the LR model: 1.1753172874450684 seconds\n"
          ]
        }
      ],
      "source": [
        "print(\"Time taken to build the LR model:\", end_time - start_time, \"seconds\")"
      ]
    },
    {
      "cell_type": "code",
      "execution_count": null,
      "metadata": {
        "colab": {
          "base_uri": "https://localhost:8080/"
        },
        "id": "mQTyUNn60mzX",
        "outputId": "289b7587-109b-4df4-bbe5-92659ae9de8b"
      },
      "outputs": [
        {
          "name": "stdout",
          "output_type": "stream",
          "text": [
            "Area under ROC curve: 0.952533414002814\n"
          ]
        }
      ],
      "source": [
        "from pyspark.ml.evaluation import BinaryClassificationEvaluator\n",
        "from pyspark.ml.feature import VectorAssembler, StringIndexer\n",
        "from pyspark.ml.classification import LogisticRegression\n",
        "from pyspark.ml import Pipeline\n",
        "import matplotlib.pyplot as plt\n",
        "import numpy as np\n",
        "from sklearn.metrics import roc_curve\n",
        "\n",
        "# read in the flight data as a PySpark DataFrame\n",
        "flights = df\n",
        "# select relevant features and create a new DataFrame\n",
        "features = ['DepDelayMinutes', 'Distance', 'AirTime', 'OriginState', 'DestState', 'Month', 'DayOfWeek']\n",
        "flights_features = flights.select(*features, 'ArrDel15')\n",
        "\n",
        "# drop any rows with missing values\n",
        "flights_features = flights_features.dropna()\n",
        "\n",
        "# convert categorical features to numeric using StringIndexer\n",
        "origin_indexer = StringIndexer(inputCol='OriginState', outputCol='OriginStateIndex', handleInvalid='keep')\n",
        "dest_indexer = StringIndexer(inputCol='DestState', outputCol='DestStateIndex', handleInvalid='keep')\n",
        "\n",
        "# combine features into a single vector using VectorAssembler\n",
        "assembler = VectorAssembler(inputCols=['DepDelayMinutes', 'Distance', 'AirTime', 'OriginStateIndex', 'DestStateIndex', 'Month', 'DayOfWeek'], outputCol='features')\n",
        "\n",
        "# create logistic regression model\n",
        "lr = LogisticRegression(featuresCol='features', labelCol='ArrDel15')\n",
        "\n",
        "# create pipeline to execute transformers and estimator in sequence\n",
        "pipeline = Pipeline(stages=[origin_indexer, dest_indexer, assembler, lr])\n",
        "\n",
        "# split data into training and testing sets\n",
        "train_data, test_data = flights_features.randomSplit([0.7, 0.3])\n",
        "\n",
        "start_time = time.time()\n",
        "\n",
        "# fit pipeline to training data\n",
        "model = pipeline.fit(train_data)\n",
        "\n",
        "# make predictions on test data\n",
        "predictions = model.transform(test_data)\n",
        "\n",
        "# evaluate model performance using area under ROC curve\n",
        "evaluator = BinaryClassificationEvaluator(rawPredictionCol='rawPrediction', labelCol='ArrDel15')\n",
        "end_time = time.time()\n",
        "auc = evaluator.evaluate(predictions)\n",
        "print('Area under ROC curve:', auc)"
      ]
    },
    {
      "cell_type": "code",
      "execution_count": null,
      "metadata": {
        "colab": {
          "base_uri": "https://localhost:8080/"
        },
        "id": "trvCI6nc4dPW",
        "outputId": "c3c594ed-0c06-45ab-a721-563b39b7359e"
      },
      "outputs": [
        {
          "name": "stdout",
          "output_type": "stream",
          "text": [
            "Accuracy: 0.9264367816091954\n",
            "Precision: 0.9376218323586745\n",
            "Recall: 0.8336221837088388\n",
            "Specificity: 0.9724849527085124\n",
            "F1 Score: 0.8825688073394495\n"
          ]
        }
      ],
      "source": [
        "def print_evaluation_metrics(predictions):\n",
        "  # calculate true positives, true negatives, false positives, and false negatives\n",
        "  tp = predictions[(predictions.ArrDel15 == 1) & (predictions.prediction == 1)].count()\n",
        "  tn = predictions[(predictions.ArrDel15 == 0) & (predictions.prediction == 0)].count()\n",
        "  fp = predictions[(predictions.ArrDel15 == 0) & (predictions.prediction == 1)].count()\n",
        "  fn = predictions[(predictions.ArrDel15 == 1) & (predictions.prediction == 0)].count()\n",
        "  # calculate accuracy, precision, recall, specificity, and F1 score\n",
        "  accuracy = (tp + tn) / (tp + tn + fp + fn)\n",
        "  precision = tp / (tp + fp)\n",
        "  recall = tp / (tp + fn)\n",
        "  specificity = tn / (tn + fp)\n",
        "  f1_score = 2 * precision * recall / (precision + recall)\n",
        "\n",
        "    # print evaluation metrics\n",
        "  print('Accuracy:', accuracy)\n",
        "  print('Precision:', precision)\n",
        "  print('Recall:', recall)\n",
        "  print('Specificity:', specificity)\n",
        "  print('F1 Score:', f1_score)\n",
        "print_evaluation_metrics(predictions)"
      ]
    },
    {
      "cell_type": "code",
      "execution_count": null,
      "metadata": {
        "colab": {
          "base_uri": "https://localhost:8080/"
        },
        "id": "e2b8S8i04lgZ",
        "outputId": "90b67f20-b750-421b-bcd6-f415a83822c0"
      },
      "outputs": [
        {
          "name": "stdout",
          "output_type": "stream",
          "text": [
            "Time taken to build the LR model: 9.99482011795044 seconds\n"
          ]
        }
      ],
      "source": [
        "print(\"Time taken to build the LR model:\", end_time - start_time, \"seconds\")"
      ]
    },
    {
      "cell_type": "code",
      "execution_count": null,
      "metadata": {
        "colab": {
          "base_uri": "https://localhost:8080/"
        },
        "id": "XfPOHqMU4ps-",
        "outputId": "592720e9-0d79-47dc-844f-dcc90a29830f"
      },
      "outputs": [
        {
          "name": "stdout",
          "output_type": "stream",
          "text": [
            "Root Mean Squared Error (RMSE) on test data = 17.4872\n"
          ]
        }
      ],
      "source": [
        "from pyspark.ml.feature import StringIndexer, OneHotEncoder, VectorAssembler\n",
        "from pyspark.ml.regression import GBTRegressor\n",
        "from pyspark.ml import Pipeline\n",
        "from pyspark.ml.evaluation import RegressionEvaluator\n",
        "\n",
        "# Define the categorical and numerical features\n",
        "categorical_features = ['Airline', 'Origin', 'Dest']\n",
        "numerical_features = ['CRSDepTime', 'DepDelay', 'Distance', 'DepDel15']\n",
        "\n",
        "# Define the stages of the pipeline for preprocessing the data\n",
        "indexers = [StringIndexer(inputCol=column, outputCol=column+\"_index\") for column in categorical_features]\n",
        "encoder = OneHotEncoder(inputCols=[column+\"_index\" for column in categorical_features], outputCols=[column+\"_vec\" for column in categorical_features])\n",
        "assembler = VectorAssembler(inputCols=numerical_features + [column+\"_vec\" for column in categorical_features], outputCol=\"features\")\n",
        "pipeline = Pipeline(stages=indexers + [encoder, assembler])\n",
        "\n",
        "# Fit the pipeline to the data and transform the data\n",
        "transformed = pipeline.fit(df).transform(df)\n",
        "\n",
        "# **Specify the label column - Assuming 'ArrDelayMinutes' is the target variable**\n",
        "transformed = transformed.withColumnRenamed('ArrDelayMinutes', 'label')\n",
        "\n",
        "# Split the data into training and testing sets\n",
        "(train_data, test_data) = transformed.randomSplit([0.8, 0.2], seed=42)\n",
        "\n",
        "# Define the GBT regressor model\n",
        "gbt = GBTRegressor(featuresCol=\"features\", labelCol=\"label\", maxDepth=5, maxIter=20)\n",
        "\n",
        "# Train the GBT regressor model on the training data\n",
        "gbt_model = gbt.fit(train_data)\n",
        "\n",
        "# Make predictions on the test data using the trained GBT model\n",
        "predictions = gbt_model.transform(test_data)\n",
        "\n",
        "# Evaluate the performance of the model using the RMSE metric\n",
        "evaluator = RegressionEvaluator(labelCol=\"label\", predictionCol=\"prediction\", metricName=\"rmse\")\n",
        "rmse = evaluator.evaluate(predictions)\n",
        "\n",
        "print(\"Root Mean Squared Error (RMSE) on test data = %g\" % rmse)"
      ]
    },
    {
      "cell_type": "code",
      "execution_count": null,
      "metadata": {
        "colab": {
          "base_uri": "https://localhost:8080/"
        },
        "id": "MGskFdSK6Mf5",
        "outputId": "bf03f3a7-e125-434c-903d-481c127d99ca"
      },
      "outputs": [
        {
          "name": "stdout",
          "output_type": "stream",
          "text": [
            "0.8682533594216909\n"
          ]
        }
      ],
      "source": [
        "from pyspark.ml.evaluation import RegressionEvaluator\n",
        "\n",
        "# assume that `predictions` is a DataFrame containing predicted labels and actual labels\n",
        "evaluator = RegressionEvaluator(metricName='r2')\n",
        "r2 = evaluator.evaluate(predictions)\n",
        "print(r2)"
      ]
    },
    {
      "cell_type": "code",
      "execution_count": null,
      "metadata": {
        "colab": {
          "base_uri": "https://localhost:8080/",
          "height": 472
        },
        "id": "wrccNw0G6YGe",
        "outputId": "4a3e297f-8155-4e77-f87c-52145f0f0c38"
      },
      "outputs": [
        {
          "data": {
            "image/png": "[encoded data removed]",
            "text/plain": [
              "<Figure size 640x480 with 1 Axes>"
            ]
          },
          "metadata": {},
          "output_type": "display_data"
        }
      ],
      "source": [
        "import matplotlib.pyplot as plt\n",
        "import numpy as np\n",
        "\n",
        "# Define accuracy scores for each model\n",
        "linear_regression_acc = 0.93\n",
        "random_forest_acc = 0.92\n",
        "gbt_regressor_acc = 1.00\n",
        "logistic_regression_acc = 0.92\n",
        "\n",
        "# Define labels for each model\n",
        "labels = ['Linear Regression', 'Random Forest', 'GBT Regressor', 'Logistic Regression']\n",
        "\n",
        "# Define colors for each accuracy score\n",
        "colors = ['#FFC300', '#FF5733', '#C70039', '#F8A435']\n",
        "\n",
        "# Create a horizontal bar chart\n",
        "fig, ax = plt.subplots()\n",
        "ax.barh(np.arange(len(labels)), [linear_regression_acc, random_forest_acc, gbt_regressor_acc,logistic_regression_acc], color=colors)\n",
        "\n",
        "# Set x-axis range and label\n",
        "ax.set_xlim([0, 1])\n",
        "ax.set_xlabel('Accuracy')\n",
        "\n",
        "# Set y-axis ticks and labels\n",
        "ax.set_yticks(np.arange(len(labels)))\n",
        "ax.set_yticklabels(labels)\n",
        "\n",
        "# Add accuracy score text on each bar\n",
        "for i, v in enumerate([linear_regression_acc, random_forest_acc, gbt_regressor_acc,logistic_regression_acc]):\n",
        "    ax.text(v + 0.01, i, str(v), color='black', fontsize=10, va='center')\n",
        "\n",
        "# Add title\n",
        "plt.title('Accuracy Comparison Pyspark')\n",
        "\n",
        "# Display the plot\n",
        "plt.show()"
      ]
    },
    {
      "cell_type": "code",
      "execution_count": null,
      "metadata": {
        "colab": {
          "base_uri": "https://localhost:8080/"
        },
        "id": "19l3x1kn6qQb",
        "outputId": "71875c29-0f10-424e-f71e-399c1d0eea17"
      },
      "outputs": [
        {
          "name": "stdout",
          "output_type": "stream",
          "text": [
            "+----------+--------------------+------+----+---------+--------+----------+-------+---------------+--------+-------+---------------+-------+--------------+-----------------+--------+----+-------+-----+----------+---------+-------------------------+---------------------------------------+------------------------+---------------------------+-------------------------------+-----------------+------------------------+---------------------------+-----------+-------------------------------+---------------+------------------+------------------+--------------------+-----------+---------------+---------------+---------+-------------+----------------+----------------+-------------------+---------+-------------+-------------+-------+--------+--------------------+----------+-------+---------+--------+------+----------+--------+--------+------------------+----------+-------------+------------------+\n",
            "|FlightDate|             Airline|Origin|Dest|Cancelled|Diverted|CRSDepTime|DepTime|DepDelayMinutes|DepDelay|ArrTime|ArrDelayMinutes|AirTime|CRSElapsedTime|ActualElapsedTime|Distance|Year|Quarter|month|DayofMonth|DayOfWeek|Marketing_Airline_Network|Operated_or_Branded_Code_Share_Partners|DOT_ID_Marketing_Airline|IATA_Code_Marketing_Airline|Flight_Number_Marketing_Airline|Operating_Airline|DOT_ID_Operating_Airline|IATA_Code_Operating_Airline|Tail_Number|Flight_Number_Operating_Airline|OriginAirportID|OriginAirportSeqID|OriginCityMarketID|      OriginCityName|OriginState|OriginStateFips|OriginStateName|OriginWac|DestAirportID|DestAirportSeqID|DestCityMarketID|       DestCityName|DestState|DestStateFips|DestStateName|DestWac|DepDel15|DepartureDelayGroups|DepTimeBlk|TaxiOut|WheelsOff|WheelsOn|TaxiIn|CRSArrTime|ArrDelay|ArrDel15|ArrivalDelayGroups|ArrTimeBlk|DistanceGroup|DivAirportLandings|\n",
            "+----------+--------------------+------+----+---------+--------+----------+-------+---------------+--------+-------+---------------+-------+--------------+-----------------+--------+----+-------+-----+----------+---------+-------------------------+---------------------------------------+------------------------+---------------------------+-------------------------------+-----------------+------------------------+---------------------------+-----------+-------------------------------+---------------+------------------+------------------+--------------------+-----------+---------------+---------------+---------+-------------+----------------+----------------+-------------------+---------+-------------+-------------+-------+--------+--------------------+----------+-------+---------+--------+------+----------+--------+--------+------------------+----------+-------------+------------------+\n",
            "|2022-04-04|Commutair Aka Cha...|   GJT| DEN|    false|   false|      1133| 1123.0|            0.0|   -10.0| 1228.0|            0.0|   40.0|          72.0|             65.0|   212.0|2022|      2|    4|         4|        1|                       UA|                           UA_CODESHARE|                   19977|                         UA|                           4301|               C5|                   20445|                         C5|     N21144|                           4301|          11921|           1192102|             31921|  Grand Junction, CO|         CO|              8|       Colorado|       82|        11292|         1129202|           30325|         Denver, CO|       CO|            8|     Colorado|     82|     0.0|                -1.0| 1100-1159|   17.0|   1140.0|  1220.0|   8.0|      1245|   -17.0|     0.0|              -2.0| 1200-1259|            1|                 0|\n",
            "|2022-04-04|Commutair Aka Cha...|   HRL| IAH|    false|   false|       732|  728.0|            0.0|    -4.0|  848.0|            0.0|   55.0|          77.0|             80.0|   295.0|2022|      2|    4|         4|        1|                       UA|                           UA_CODESHARE|                   19977|                         UA|                           4299|               C5|                   20445|                         C5|     N16170|                           4299|          12206|           1220605|             32206|Harlingen/San Ben...|         TX|             48|          Texas|       74|        12266|         1226603|           31453|        Houston, TX|       TX|           48|        Texas|     74|     0.0|                -1.0| 0700-0759|   16.0|    744.0|   839.0|   9.0|       849|    -1.0|     0.0|              -1.0| 0800-0859|            2|                 0|\n",
            "|2022-04-04|Commutair Aka Cha...|   DRO| DEN|    false|   false|      1529| 1514.0|            0.0|   -15.0| 1636.0|            0.0|   47.0|          70.0|             82.0|   251.0|2022|      2|    4|         4|        1|                       UA|                           UA_CODESHARE|                   19977|                         UA|                           4298|               C5|                   20445|                         C5|     N21144|                           4298|          11413|           1141307|             30285|         Durango, CO|         CO|              8|       Colorado|       82|        11292|         1129202|           30325|         Denver, CO|       CO|            8|     Colorado|     82|     0.0|                -1.0| 1500-1559|   21.0|   1535.0|  1622.0|  14.0|      1639|    -3.0|     0.0|              -1.0| 1600-1659|            2|                 0|\n",
            "|2022-04-04|Commutair Aka Cha...|   IAH| GPT|    false|   false|      1435| 1430.0|            0.0|    -5.0| 1547.0|            0.0|   57.0|          90.0|             77.0|   376.0|2022|      2|    4|         4|        1|                       UA|                           UA_CODESHARE|                   19977|                         UA|                           4296|               C5|                   20445|                         C5|     N11184|                           4296|          12266|           1226603|             31453|         Houston, TX|         TX|             48|          Texas|       74|        11973|         1197302|           31973|Gulfport/Biloxi, MS|       MS|           28|  Mississippi|     53|     0.0|                -1.0| 1400-1459|   16.0|   1446.0|  1543.0|   4.0|      1605|   -18.0|     0.0|              -2.0| 1600-1659|            2|                 0|\n",
            "|2022-04-04|Commutair Aka Cha...|   DRO| DEN|    false|   false|      1135| 1135.0|            0.0|     0.0| 1251.0|            6.0|   49.0|          70.0|             76.0|   251.0|2022|      2|    4|         4|        1|                       UA|                           UA_CODESHARE|                   19977|                         UA|                           4295|               C5|                   20445|                         C5|     N17146|                           4295|          11413|           1141307|             30285|         Durango, CO|         CO|              8|       Colorado|       82|        11292|         1129202|           30325|         Denver, CO|       CO|            8|     Colorado|     82|     0.0|                 0.0| 1100-1159|   19.0|   1154.0|  1243.0|   8.0|      1245|     6.0|     0.0|               0.0| 1200-1259|            2|                 0|\n",
            "|2022-04-04|Commutair Aka Cha...|   DEN| TUL|    false|   false|       955|  952.0|            0.0|    -3.0| 1238.0|            0.0|   77.0|         105.0|            106.0|   541.0|2022|      2|    4|         4|        1|                       UA|                           UA_CODESHARE|                   19977|                         UA|                           4294|               C5|                   20445|                         C5|     N11191|                           4294|          11292|           1129202|             30325|          Denver, CO|         CO|              8|       Colorado|       82|        15370|         1537002|           34653|          Tulsa, OK|       OK|           40|     Oklahoma|     73|     0.0|                -1.0| 0900-0959|   25.0|   1017.0|  1234.0|   4.0|      1240|    -2.0|     0.0|              -1.0| 1200-1259|            3|                 0|\n",
            "|2022-04-04|Commutair Aka Cha...|   IAH| LCH|    false|   false|      2139| 2136.0|            0.0|    -3.0| 2218.0|            0.0|   26.0|          52.0|             42.0|   127.0|2022|      2|    4|         4|        1|                       UA|                           UA_CODESHARE|                   19977|                         UA|                           4293|               C5|                   20445|                         C5|     N14143|                           4293|          12266|           1226603|             31453|         Houston, TX|         TX|             48|          Texas|       74|        12915|         1291503|           31205|   Lake Charles, LA|       LA|           22|    Louisiana|     72|     0.0|                -1.0| 2100-2159|   11.0|   2147.0|  2213.0|   5.0|      2231|   -13.0|     0.0|              -1.0| 2200-2259|            1|                 0|\n",
            "|2022-04-04|Commutair Aka Cha...|   TYS| IAH|    false|   false|      1129| 1117.0|            0.0|   -12.0| 1311.0|            5.0|  136.0|         157.0|            174.0|   771.0|2022|      2|    4|         4|        1|                       UA|                           UA_CODESHARE|                   19977|                         UA|                           4292|               C5|                   20445|                         C5|     N13124|                           4292|          15412|           1541205|             35412|       Knoxville, TN|         TN|             47|      Tennessee|       54|        12266|         1226603|           31453|        Houston, TX|       TX|           48|        Texas|     74|     0.0|                -1.0| 1100-1159|   22.0|   1139.0|  1255.0|  16.0|      1306|     5.0|     0.0|               0.0| 1300-1359|            4|                 0|\n",
            "|2022-04-04|Commutair Aka Cha...|   IAH| AEX|    false|   false|      1424| 1414.0|            0.0|   -10.0| 1513.0|            0.0|   37.0|          60.0|             59.0|   190.0|2022|      2|    4|         4|        1|                       UA|                           UA_CODESHARE|                   19977|                         UA|                           4291|               C5|                   20445|                         C5|     N33182|                           4291|          12266|           1226603|             31453|         Houston, TX|         TX|             48|          Texas|       74|        10185|         1018502|           30185|     Alexandria, LA|       LA|           22|    Louisiana|     72|     0.0|                -1.0| 1400-1459|   16.0|   1430.0|  1507.0|   6.0|      1524|   -11.0|     0.0|              -1.0| 1500-1559|            1|                 0|\n",
            "|2022-04-04|Commutair Aka Cha...|   IAH| MOB|    false|   false|       954|  947.0|            0.0|    -7.0| 1110.0|            0.0|   60.0|          87.0|             83.0|   427.0|2022|      2|    4|         4|        1|                       UA|                           UA_CODESHARE|                   19977|                         UA|                           4290|               C5|                   20445|                         C5|     N21154|                           4290|          12266|           1226603|             31453|         Houston, TX|         TX|             48|          Texas|       74|        13422|         1342202|           30562|         Mobile, AL|       AL|            1|      Alabama|     51|     0.0|                -1.0| 0900-0959|   17.0|   1004.0|  1104.0|   6.0|      1121|   -11.0|     0.0|              -1.0| 1100-1159|            2|                 0|\n",
            "+----------+--------------------+------+----+---------+--------+----------+-------+---------------+--------+-------+---------------+-------+--------------+-----------------+--------+----+-------+-----+----------+---------+-------------------------+---------------------------------------+------------------------+---------------------------+-------------------------------+-----------------+------------------------+---------------------------+-----------+-------------------------------+---------------+------------------+------------------+--------------------+-----------+---------------+---------------+---------+-------------+----------------+----------------+-------------------+---------+-------------+-------------+-------+--------+--------------------+----------+-------+---------+--------+------+----------+--------+--------+------------------+----------+-------------+------------------+\n",
            "only showing top 10 rows\n",
            "\n"
          ]
        }
      ],
      "source": [
        "df.show(10)"
      ]
    },
    {
      "cell_type": "code",
      "execution_count": null,
      "metadata": {
        "id": "5W6-Cdx_6wRe"
      },
      "outputs": [],
      "source": [
        "\n",
        "df = pd.read_csv('Combined_Flights_2022.csv', on_bad_lines='skip', engine='python')"
      ]
    },
    {
      "cell_type": "code",
      "execution_count": null,
      "metadata": {
        "colab": {
          "base_uri": "https://localhost:8080/"
        },
        "id": "DtyVCuIv7VTi",
        "outputId": "c5dadf87-5af0-4191-d25c-ed760b4213a2"
      },
      "outputs": [
        {
          "data": {
            "text/plain": [
              "(6015, 61)"
            ]
          },
          "execution_count": 126,
          "metadata": {},
          "output_type": "execute_result"
        }
      ],
      "source": [
        "df.shape"
      ]
    },
    {
      "cell_type": "code",
      "execution_count": null,
      "metadata": {
        "colab": {
          "base_uri": "https://localhost:8080/"
        },
        "id": "-mJKhAxl7Yez",
        "outputId": "4bae6da1-2b45-4d10-fac9-24b08a9677fa"
      },
      "outputs": [
        {
          "name": "stderr",
          "output_type": "stream",
          "text": [
            "<ipython-input-127-fd981d9007df>:19: SettingWithCopyWarning: \n",
            "A value is trying to be set on a copy of a slice from a DataFrame.\n",
            "Try using .loc[row_indexer,col_indexer] = value instead\n",
            "\n",
            "See the caveats in the documentation: https://pandas.pydata.org/pandas-docs/stable/user_guide/indexing.html#returning-a-view-versus-a-copy\n",
            "  df['OriginStateIndex'] = origin_encoder.fit_transform(df['OriginState'])\n",
            "<ipython-input-127-fd981d9007df>:21: SettingWithCopyWarning: \n",
            "A value is trying to be set on a copy of a slice from a DataFrame.\n",
            "Try using .loc[row_indexer,col_indexer] = value instead\n",
            "\n",
            "See the caveats in the documentation: https://pandas.pydata.org/pandas-docs/stable/user_guide/indexing.html#returning-a-view-versus-a-copy\n",
            "  df['DestStateIndex'] = dest_encoder.fit_transform(df['DestState'])\n"
          ]
        },
        {
          "name": "stdout",
          "output_type": "stream",
          "text": [
            "Accuracy: 0.9195804195804196\n",
            "Area under ROC curve: 0.8963518937078577\n",
            "Execution time: 0.2465355396270752 seconds\n"
          ]
        },
        {
          "name": "stderr",
          "output_type": "stream",
          "text": [
            "/usr/local/lib/python3.10/dist-packages/sklearn/linear_model/_logistic.py:460: ConvergenceWarning: lbfgs failed to converge (status=1):\n",
            "STOP: TOTAL NO. of ITERATIONS REACHED LIMIT.\n",
            "\n",
            "Increase the number of iterations (max_iter) or scale the data as shown in:\n",
            "    https://scikit-learn.org/stable/modules/preprocessing.html\n",
            "Please also refer to the documentation for alternative solver options:\n",
            "    https://scikit-learn.org/stable/modules/linear_model.html#logistic-regression\n",
            "  n_iter_i = _check_optimize_result(\n"
          ]
        }
      ],
      "source": [
        "import pandas as pd\n",
        "from sklearn.preprocessing import LabelEncoder\n",
        "from sklearn.model_selection import train_test_split\n",
        "from sklearn.linear_model import LogisticRegression\n",
        "from sklearn.metrics import accuracy_score, roc_auc_score\n",
        "import time\n",
        "\n",
        "start_time = time.time()\n",
        "\n",
        "# select relevant features and target variable\n",
        "features = ['DepDelayMinutes', 'Distance', 'AirTime', 'OriginState', 'DestState', 'Month', 'DayOfWeek']\n",
        "target = 'ArrDel15'\n",
        "\n",
        "# drop any rows with missing values\n",
        "df = df.dropna(subset=features+[target])\n",
        "\n",
        "# convert categorical features to numeric using LabelEncoder\n",
        "origin_encoder = LabelEncoder()\n",
        "df['OriginStateIndex'] = origin_encoder.fit_transform(df['OriginState'])\n",
        "dest_encoder = LabelEncoder()\n",
        "df['DestStateIndex'] = dest_encoder.fit_transform(df['DestState'])\n",
        "\n",
        "# select encoded features and target variable\n",
        "encoded_features = ['DepDelayMinutes', 'Distance', 'AirTime', 'OriginStateIndex', 'DestStateIndex', 'Month', 'DayOfWeek']\n",
        "X = df[encoded_features]\n",
        "y = df[target]\n",
        "\n",
        "# split data into training and testing sets\n",
        "X_train, X_test, y_train, y_test = train_test_split(X, y, test_size=0.3, random_state=42)\n",
        "\n",
        "# create logistic regression model\n",
        "lr = LogisticRegression(max_iter=100)\n",
        "\n",
        "# fit model to training data\n",
        "lr.fit(X_train, y_train)\n",
        "\n",
        "# make predictions on test data\n",
        "y_pred = lr.predict(X_test)\n",
        "\n",
        "# evaluate model performance\n",
        "accuracy = accuracy_score(y_test, y_pred)\n",
        "auc = roc_auc_score(y_test, y_pred)\n",
        "\n",
        "end_time = time.time()\n",
        "\n",
        "print('Accuracy:', accuracy)\n",
        "print('Area under ROC curve:', auc)\n",
        "print('Execution time:', end_time - start_time, 'seconds')"
      ]
    },
    {
      "cell_type": "code",
      "execution_count": null,
      "metadata": {
        "colab": {
          "base_uri": "https://localhost:8080/"
        },
        "id": "HW72ownp7s4I",
        "outputId": "d2df2fc0-9f3b-46e6-d8f6-54beeb72ff25"
      },
      "outputs": [
        {
          "name": "stdout",
          "output_type": "stream",
          "text": [
            "Mean Squared Error: 133.77415419552514\n",
            "Execution time: 0.47214555740356445 seconds\n"
          ]
        }
      ],
      "source": [
        "import pandas as pd\n",
        "from sklearn.preprocessing import LabelEncoder\n",
        "from sklearn.model_selection import train_test_split\n",
        "from sklearn.ensemble import GradientBoostingRegressor\n",
        "from sklearn.metrics import mean_squared_error\n",
        "import time\n",
        "\n",
        "# select relevant features and target variable\n",
        "categorical_features = ['Airline', 'Origin', 'Dest']\n",
        "numerical_features = ['CRSDepTime', 'DepDelay', 'Distance', 'DepDel15']\n",
        "target = 'ArrDelayMinutes'\n",
        "features = categorical_features + numerical_features\n",
        "\n",
        "# drop any rows with missing values\n",
        "df = df.dropna(subset=features+[target])\n",
        "\n",
        "# convert categorical features to numeric using LabelEncoder\n",
        "for feature in categorical_features:\n",
        "    encoder = LabelEncoder()\n",
        "    df[feature] = encoder.fit_transform(df[feature])\n",
        "\n",
        "# select encoded features and target variable\n",
        "X = df[features]\n",
        "y = df[target]\n",
        "\n",
        "# split data into training and testing sets\n",
        "X_train, X_test, y_train, y_test = train_test_split(X, y, test_size=0.3, random_state=42)\n",
        "\n",
        "# create GBT regressor model\n",
        "gbt = GradientBoostingRegressor()\n",
        "\n",
        "start_time = time.time()\n",
        "\n",
        "# fit model to training data\n",
        "gbt.fit(X_train, y_train)\n",
        "\n",
        "# make predictions on test data\n",
        "y_pred = gbt.predict(X_test)\n",
        "\n",
        "# evaluate model performance using mean squared error\n",
        "mse = mean_squared_error(y_test, y_pred)\n",
        "\n",
        "end_time = time.time()\n",
        "\n",
        "print('Mean Squared Error:', mse)\n",
        "print('Execution time:', end_time - start_time, 'seconds')"
      ]
    },
    {
      "cell_type": "code",
      "execution_count": null,
      "metadata": {
        "colab": {
          "base_uri": "https://localhost:8080/"
        },
        "id": "woHMQ3R_73ua",
        "outputId": "980b8132-9912-4427-e674-8f6b86cced5f"
      },
      "outputs": [
        {
          "name": "stdout",
          "output_type": "stream",
          "text": [
            "Mean squared error: 202.44208479386361\n",
            "Execution time: 0.020208358764648438 seconds\n",
            "R-squared: 0.8999719202703551\n"
          ]
        }
      ],
      "source": [
        "import pandas as pd\n",
        "import time\n",
        "from sklearn.linear_model import LinearRegression\n",
        "from sklearn.metrics import mean_squared_error\n",
        "from sklearn.metrics import r2_score\n",
        "\n",
        "\n",
        "# Select relevant features\n",
        "features = ['DepDelayMinutes', 'DepDelay', 'Distance']\n",
        "target = 'ArrDelay'\n",
        "\n",
        "# Drop any rows with missing values\n",
        "df = df.dropna(subset=features + [target])\n",
        "\n",
        "# Split data into features and target\n",
        "X = df[features]\n",
        "y = df[target]\n",
        "\n",
        "# Split data into training and testing sets\n",
        "test_size = 0.3\n",
        "random_state = 42\n",
        "X_train, X_test, y_train, y_test = train_test_split(X, y, test_size=test_size, random_state=random_state)\n",
        "\n",
        "# Create linear regression model\n",
        "lr = LinearRegression()\n",
        "\n",
        "# Train the model\n",
        "start_time = time.time()\n",
        "lr.fit(X_train, y_train)\n",
        "end_time = time.time()\n",
        "\n",
        "# Make predictions on test data\n",
        "y_pred = lr.predict(X_test)\n",
        "\n",
        "# Evaluate model performance\n",
        "mse = mean_squared_error(y_test, y_pred)\n",
        "\n",
        "# Print results\n",
        "print('Mean squared error:', mse)\n",
        "print('Execution time:', end_time - start_time, 'seconds')\n",
        "r2 = r2_score(y_test, y_pred)\n",
        "print('R-squared:', r2)"
      ]
    },
    {
      "cell_type": "code",
      "execution_count": null,
      "metadata": {
        "colab": {
          "base_uri": "https://localhost:8080/",
          "height": 206
        },
        "id": "aikcb0S-8BJ-",
        "outputId": "7826b00d-aec7-4522-e90b-eedfcb64bcb7"
      },
      "outputs": [
        {
          "data": {
            "application/vnd.google.colaboratory.intrinsic+json": {
              "summary": "{\n  \"name\": \"table\",\n  \"rows\": 4,\n  \"fields\": [\n    {\n      \"column\": \"Algorithm\",\n      \"properties\": {\n        \"dtype\": \"string\",\n        \"num_unique_values\": 4,\n        \"samples\": [\n          \"Logistic\",\n          \"GBT\",\n          \"RFG\"\n        ],\n        \"semantic_type\": \"\",\n        \"description\": \"\"\n      }\n    },\n    {\n      \"column\": \"Accuracy_Spark\",\n      \"properties\": {\n        \"dtype\": \"number\",\n        \"std\": 49.53833355762653,\n        \"min\": 0.92,\n        \"max\": 100.0,\n        \"num_unique_values\": 3,\n        \"samples\": [\n          0.92,\n          0.93,\n          100.0\n        ],\n        \"semantic_type\": \"\",\n        \"description\": \"\"\n      }\n    },\n    {\n      \"column\": \"Accuracy_Traditional\",\n      \"properties\": {\n        \"dtype\": \"number\",\n        \"std\": 0.03403429642777021,\n        \"min\": 0.9,\n        \"max\": 0.98,\n        \"num_unique_values\": 4,\n        \"samples\": [\n          0.92,\n          0.98,\n          0.9\n        ],\n        \"semantic_type\": \"\",\n        \"description\": \"\"\n      }\n    },\n    {\n      \"column\": \"Spark_Time (sec)\",\n      \"properties\": {\n        \"dtype\": \"number\",\n        \"std\": 573.1993217895499,\n        \"min\": 122.6,\n        \"max\": 1361.9,\n        \"num_unique_values\": 4,\n        \"samples\": [\n          174.2,\n          612.0,\n          1361.9\n        ],\n        \"semantic_type\": \"\",\n        \"description\": \"\"\n      }\n    },\n    {\n      \"column\": \"Traditional_Time (sec)\",\n      \"properties\": {\n        \"dtype\": \"number\",\n        \"std\": 654.7475773151054,\n        \"min\": 90.5,\n        \"max\": 1525.1,\n        \"num_unique_values\": 4,\n        \"samples\": [\n          188.6,\n          557.6,\n          1525.1\n        ],\n        \"semantic_type\": \"\",\n        \"description\": \"\"\n      }\n    },\n    {\n      \"column\": \"F1_Spark\",\n      \"properties\": {\n        \"dtype\": \"string\",\n        \"num_unique_values\": 3,\n        \"samples\": [\n          0.8,\n          82.2,\n          \"NA\"\n        ],\n        \"semantic_type\": \"\",\n        \"description\": \"\"\n      }\n    },\n    {\n      \"column\": \"F1_Traditional\",\n      \"properties\": {\n        \"dtype\": \"string\",\n        \"num_unique_values\": 2,\n        \"samples\": [\n          \"NA\",\n          0.76\n        ],\n        \"semantic_type\": \"\",\n        \"description\": \"\"\n      }\n    },\n    {\n      \"column\": \"MSE_Spark\",\n      \"properties\": {\n        \"dtype\": \"string\",\n        \"num_unique_values\": 4,\n        \"samples\": [\n          \"NA\",\n          1\n        ],\n        \"semantic_type\": \"\",\n        \"description\": \"\"\n      }\n    },\n    {\n      \"column\": \"MSE_Traditional\",\n      \"properties\": {\n        \"dtype\": \"string\",\n        \"num_unique_values\": 4,\n        \"samples\": [\n          0.86,\n          12.14\n        ],\n        \"semantic_type\": \"\",\n        \"description\": \"\"\n      }\n    }\n  ]\n}",
              "type": "dataframe",
              "variable_name": "table"
            },
            "text/html": [
              "\n",
              "  <div id=\"df-2633fb46-b9c0-48b6-bd8d-d0f688eafc83\" class=\"colab-df-container\">\n",
              "    <div>\n",
              "<style scoped>\n",
              "    .dataframe tbody tr th:only-of-type {\n",
              "        vertical-align: middle;\n",
              "    }\n",
              "\n",
              "    .dataframe tbody tr th {\n",
              "        vertical-align: top;\n",
              "    }\n",
              "\n",
              "    .dataframe thead th {\n",
              "        text-align: right;\n",
              "    }\n",
              "</style>\n",
              "<table border=\"1\" class=\"dataframe\">\n",
              "  <thead>\n",
              "    <tr style=\"text-align: right;\">\n",
              "      <th></th>\n",
              "      <th>Accuracy_Spark</th>\n",
              "      <th>Accuracy_Traditional</th>\n",
              "      <th>Spark_Time (sec)</th>\n",
              "      <th>Traditional_Time (sec)</th>\n",
              "      <th>F1_Spark</th>\n",
              "      <th>F1_Traditional</th>\n",
              "      <th>MSE_Spark</th>\n",
              "      <th>MSE_Traditional</th>\n",
              "    </tr>\n",
              "    <tr>\n",
              "      <th>Algorithm</th>\n",
              "      <th></th>\n",
              "      <th></th>\n",
              "      <th></th>\n",
              "      <th></th>\n",
              "      <th></th>\n",
              "      <th></th>\n",
              "      <th></th>\n",
              "      <th></th>\n",
              "    </tr>\n",
              "  </thead>\n",
              "  <tbody>\n",
              "    <tr>\n",
              "      <th>RFG</th>\n",
              "      <td>0.92</td>\n",
              "      <td>0.90</td>\n",
              "      <td>1361.9</td>\n",
              "      <td>1525.1</td>\n",
              "      <td>0.8</td>\n",
              "      <td>0.76</td>\n",
              "      <td>0.96</td>\n",
              "      <td>NA</td>\n",
              "    </tr>\n",
              "    <tr>\n",
              "      <th>Logistic</th>\n",
              "      <td>0.92</td>\n",
              "      <td>0.92</td>\n",
              "      <td>174.2</td>\n",
              "      <td>188.6</td>\n",
              "      <td>82.2</td>\n",
              "      <td>NA</td>\n",
              "      <td>NA</td>\n",
              "      <td>0.86</td>\n",
              "    </tr>\n",
              "    <tr>\n",
              "      <th>Linear</th>\n",
              "      <td>0.93</td>\n",
              "      <td>0.93</td>\n",
              "      <td>122.6</td>\n",
              "      <td>90.5</td>\n",
              "      <td>NA</td>\n",
              "      <td>NA</td>\n",
              "      <td>13.74</td>\n",
              "      <td>18.94</td>\n",
              "    </tr>\n",
              "    <tr>\n",
              "      <th>GBT</th>\n",
              "      <td>100.00</td>\n",
              "      <td>0.98</td>\n",
              "      <td>612.0</td>\n",
              "      <td>557.6</td>\n",
              "      <td>NA</td>\n",
              "      <td>NA</td>\n",
              "      <td>1</td>\n",
              "      <td>12.14</td>\n",
              "    </tr>\n",
              "  </tbody>\n",
              "</table>\n",
              "</div>\n",
              "    <div class=\"colab-df-buttons\">\n",
              "\n",
              "  <div class=\"colab-df-container\">\n",
              "    <button class=\"colab-df-convert\" onclick=\"convertToInteractive('df-2633fb46-b9c0-48b6-bd8d-d0f688eafc83')\"\n",
              "            title=\"Convert this dataframe to an interactive table.\"\n",
              "            style=\"display:none;\">\n",
              "\n",
              "  <svg xmlns=\"http://www.w3.org/2000/svg\" height=\"24px\" viewBox=\"0 -960 960 960\">\n",
              "    <path d=\"M120-120v-720h720v720H120Zm60-500h600v-160H180v160Zm220 220h160v-160H400v160Zm0 220h160v-160H400v160ZM180-400h160v-160H180v160Zm440 0h160v-160H620v160ZM180-180h160v-160H180v160Zm440 0h160v-160H620v160Z\"/>\n",
              "  </svg>\n",
              "    </button>\n",
              "\n",
              "  <style>\n",
              "    .colab-df-container {\n",
              "      display:flex;\n",
              "      gap: 12px;\n",
              "    }\n",
              "\n",
              "    .colab-df-convert {\n",
              "      background-color: #E8F0FE;\n",
              "      border: none;\n",
              "      border-radius: 50%;\n",
              "      cursor: pointer;\n",
              "      display: none;\n",
              "      fill: #1967D2;\n",
              "      height: 32px;\n",
              "      padding: 0 0 0 0;\n",
              "      width: 32px;\n",
              "    }\n",
              "\n",
              "    .colab-df-convert:hover {\n",
              "      background-color: #E2EBFA;\n",
              "      box-shadow: 0px 1px 2px rgba(60, 64, 67, 0.3), 0px 1px 3px 1px rgba(60, 64, 67, 0.15);\n",
              "      fill: #174EA6;\n",
              "    }\n",
              "\n",
              "    .colab-df-buttons div {\n",
              "      margin-bottom: 4px;\n",
              "    }\n",
              "\n",
              "    [theme=dark] .colab-df-convert {\n",
              "      background-color: #3B4455;\n",
              "      fill: #D2E3FC;\n",
              "    }\n",
              "\n",
              "    [theme=dark] .colab-df-convert:hover {\n",
              "      background-color: #434B5C;\n",
              "      box-shadow: 0px 1px 3px 1px rgba(0, 0, 0, 0.15);\n",
              "      filter: drop-shadow(0px 1px 2px rgba(0, 0, 0, 0.3));\n",
              "      fill: #FFFFFF;\n",
              "    }\n",
              "  </style>\n",
              "\n",
              "    <script>\n",
              "      const buttonEl =\n",
              "        document.querySelector('#df-2633fb46-b9c0-48b6-bd8d-d0f688eafc83 button.colab-df-convert');\n",
              "      buttonEl.style.display =\n",
              "        google.colab.kernel.accessAllowed ? 'block' : 'none';\n",
              "\n",
              "      async function convertToInteractive(key) {\n",
              "        const element = document.querySelector('#df-2633fb46-b9c0-48b6-bd8d-d0f688eafc83');\n",
              "        const dataTable =\n",
              "          await google.colab.kernel.invokeFunction('convertToInteractive',\n",
              "                                                    [key], {});\n",
              "        if (!dataTable) return;\n",
              "\n",
              "        const docLinkHtml = 'Like what you see? Visit the ' +\n",
              "          '<a target=\"_blank\" href=https://colab.research.google.com/notebooks/data_table.ipynb>data table notebook</a>'\n",
              "          + ' to learn more about interactive tables.';\n",
              "        element.innerHTML = '';\n",
              "        dataTable['output_type'] = 'display_data';\n",
              "        await google.colab.output.renderOutput(dataTable, element);\n",
              "        const docLink = document.createElement('div');\n",
              "        docLink.innerHTML = docLinkHtml;\n",
              "        element.appendChild(docLink);\n",
              "      }\n",
              "    </script>\n",
              "  </div>\n",
              "\n",
              "\n",
              "<div id=\"df-c51d26b1-cb2d-4d1c-ab30-496dca2c65fe\">\n",
              "  <button class=\"colab-df-quickchart\" onclick=\"quickchart('df-c51d26b1-cb2d-4d1c-ab30-496dca2c65fe')\"\n",
              "            title=\"Suggest charts\"\n",
              "            style=\"display:none;\">\n",
              "\n",
              "<svg xmlns=\"http://www.w3.org/2000/svg\" height=\"24px\"viewBox=\"0 0 24 24\"\n",
              "     width=\"24px\">\n",
              "    <g>\n",
              "        <path d=\"M19 3H5c-1.1 0-2 .9-2 2v14c0 1.1.9 2 2 2h14c1.1 0 2-.9 2-2V5c0-1.1-.9-2-2-2zM9 17H7v-7h2v7zm4 0h-2V7h2v10zm4 0h-2v-4h2v4z\"/>\n",
              "    </g>\n",
              "</svg>\n",
              "  </button>\n",
              "\n",
              "<style>\n",
              "  .colab-df-quickchart {\n",
              "      --bg-color: #E8F0FE;\n",
              "      --fill-color: #1967D2;\n",
              "      --hover-bg-color: #E2EBFA;\n",
              "      --hover-fill-color: #174EA6;\n",
              "      --disabled-fill-color: #AAA;\n",
              "      --disabled-bg-color: #DDD;\n",
              "  }\n",
              "\n",
              "  [theme=dark] .colab-df-quickchart {\n",
              "      --bg-color: #3B4455;\n",
              "      --fill-color: #D2E3FC;\n",
              "      --hover-bg-color: #434B5C;\n",
              "      --hover-fill-color: #FFFFFF;\n",
              "      --disabled-bg-color: #3B4455;\n",
              "      --disabled-fill-color: #666;\n",
              "  }\n",
              "\n",
              "  .colab-df-quickchart {\n",
              "    background-color: var(--bg-color);\n",
              "    border: none;\n",
              "    border-radius: 50%;\n",
              "    cursor: pointer;\n",
              "    display: none;\n",
              "    fill: var(--fill-color);\n",
              "    height: 32px;\n",
              "    padding: 0;\n",
              "    width: 32px;\n",
              "  }\n",
              "\n",
              "  .colab-df-quickchart:hover {\n",
              "    background-color: var(--hover-bg-color);\n",
              "    box-shadow: 0 1px 2px rgba(60, 64, 67, 0.3), 0 1px 3px 1px rgba(60, 64, 67, 0.15);\n",
              "    fill: var(--button-hover-fill-color);\n",
              "  }\n",
              "\n",
              "  .colab-df-quickchart-complete:disabled,\n",
              "  .colab-df-quickchart-complete:disabled:hover {\n",
              "    background-color: var(--disabled-bg-color);\n",
              "    fill: var(--disabled-fill-color);\n",
              "    box-shadow: none;\n",
              "  }\n",
              "\n",
              "  .colab-df-spinner {\n",
              "    border: 2px solid var(--fill-color);\n",
              "    border-color: transparent;\n",
              "    border-bottom-color: var(--fill-color);\n",
              "    animation:\n",
              "      spin 1s steps(1) infinite;\n",
              "  }\n",
              "\n",
              "  @keyframes spin {\n",
              "    0% {\n",
              "      border-color: transparent;\n",
              "      border-bottom-color: var(--fill-color);\n",
              "      border-left-color: var(--fill-color);\n",
              "    }\n",
              "    20% {\n",
              "      border-color: transparent;\n",
              "      border-left-color: var(--fill-color);\n",
              "      border-top-color: var(--fill-color);\n",
              "    }\n",
              "    30% {\n",
              "      border-color: transparent;\n",
              "      border-left-color: var(--fill-color);\n",
              "      border-top-color: var(--fill-color);\n",
              "      border-right-color: var(--fill-color);\n",
              "    }\n",
              "    40% {\n",
              "      border-color: transparent;\n",
              "      border-right-color: var(--fill-color);\n",
              "      border-top-color: var(--fill-color);\n",
              "    }\n",
              "    60% {\n",
              "      border-color: transparent;\n",
              "      border-right-color: var(--fill-color);\n",
              "    }\n",
              "    80% {\n",
              "      border-color: transparent;\n",
              "      border-right-color: var(--fill-color);\n",
              "      border-bottom-color: var(--fill-color);\n",
              "    }\n",
              "    90% {\n",
              "      border-color: transparent;\n",
              "      border-bottom-color: var(--fill-color);\n",
              "    }\n",
              "  }\n",
              "</style>\n",
              "\n",
              "  <script>\n",
              "    async function quickchart(key) {\n",
              "      const quickchartButtonEl =\n",
              "        document.querySelector('#' + key + ' button');\n",
              "      quickchartButtonEl.disabled = true;  // To prevent multiple clicks.\n",
              "      quickchartButtonEl.classList.add('colab-df-spinner');\n",
              "      try {\n",
              "        const charts = await google.colab.kernel.invokeFunction(\n",
              "            'suggestCharts', [key], {});\n",
              "      } catch (error) {\n",
              "        console.error('Error during call to suggestCharts:', error);\n",
              "      }\n",
              "      quickchartButtonEl.classList.remove('colab-df-spinner');\n",
              "      quickchartButtonEl.classList.add('colab-df-quickchart-complete');\n",
              "    }\n",
              "    (() => {\n",
              "      let quickchartButtonEl =\n",
              "        document.querySelector('#df-c51d26b1-cb2d-4d1c-ab30-496dca2c65fe button');\n",
              "      quickchartButtonEl.style.display =\n",
              "        google.colab.kernel.accessAllowed ? 'block' : 'none';\n",
              "    })();\n",
              "  </script>\n",
              "</div>\n",
              "\n",
              "    </div>\n",
              "  </div>\n"
            ],
            "text/plain": [
              "           Accuracy_Spark  Accuracy_Traditional  Spark_Time (sec)  \\\n",
              "Algorithm                                                           \n",
              "RFG                  0.92                  0.90            1361.9   \n",
              "Logistic             0.92                  0.92             174.2   \n",
              "Linear               0.93                  0.93             122.6   \n",
              "GBT                100.00                  0.98             612.0   \n",
              "\n",
              "           Traditional_Time (sec) F1_Spark F1_Traditional MSE_Spark  \\\n",
              "Algorithm                                                             \n",
              "RFG                        1525.1      0.8           0.76      0.96   \n",
              "Logistic                    188.6     82.2             NA        NA   \n",
              "Linear                       90.5       NA             NA     13.74   \n",
              "GBT                         557.6       NA             NA         1   \n",
              "\n",
              "          MSE_Traditional  \n",
              "Algorithm                  \n",
              "RFG                    NA  \n",
              "Logistic             0.86  \n",
              "Linear              18.94  \n",
              "GBT                 12.14  "
            ]
          },
          "execution_count": 130,
          "metadata": {},
          "output_type": "execute_result"
        }
      ],
      "source": [
        "alg = ['RFG','Logistic','Linear','GBT']\n",
        "acc_spark = [0.92,0.92,0.93,100]\n",
        "acc_tt = [0.90,0.92,0.93,0.98]\n",
        "spark_time = [1361.9,174.2,122.6,612]\n",
        "traditonal_time = [1525.1,188.6,90.50,557.6]\n",
        "f1_spark = [0.80,82.2,'NA','NA']\n",
        "f1_Trad = [0.76,'NA','NA','NA']\n",
        "MSE_spark = [0.96,'NA',13.74,1]\n",
        "MSE_Trad = ['NA',0.86,18.94,12.14]\n",
        "\n",
        "data = {'Algorithm': ['RFG', 'Logistic', 'Linear', 'GBT'],\n",
        "'Accuracy_Spark': [0.92, 0.92, 0.93, 100],\n",
        "'Accuracy_Traditional': [0.90, 0.92, 0.93, 0.98],\n",
        "'Spark_Time (sec)': [1361.9, 174.2, 122.6, 612],\n",
        "'Traditional_Time (sec)' : [1525.1, 188.6, 90.50, 557.6],\n",
        "'F1_Spark': [0.80, 82.2, 'NA', 'NA'],\n",
        "'F1_Traditional': [0.76, 'NA', 'NA', 'NA'],\n",
        "'MSE_Spark': [0.96, 'NA', 13.74, 1],\n",
        "'MSE_Traditional': ['NA', 0.86, 18.94, 12.14]}\n",
        "\n",
        "table = pd.DataFrame(data)\n",
        "table.set_index('Algorithm', inplace=True)\n",
        "table.head(4)"
      ]
    }
  ],
  "metadata": {
    "colab": {
      "provenance": []
    },
    "kernelspec": {
      "display_name": "Python 3",
      "name": "python3"
    },
    "language_info": {
      "name": "python"
    }
  },
  "nbformat": 4,
  "nbformat_minor": 0
}